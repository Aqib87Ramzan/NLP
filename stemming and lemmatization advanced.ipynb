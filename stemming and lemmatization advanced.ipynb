{
 "cells": [
  {
   "cell_type": "code",
   "execution_count": 4,
   "id": "1263a30e-6377-4dc9-98a9-ed312358bcad",
   "metadata": {},
   "outputs": [],
   "source": [
    "import spacy\n",
    "import nltk"
   ]
  },
  {
   "cell_type": "code",
   "execution_count": 6,
   "id": "fed8cfe7-94de-4afb-a345-3215dbc81bde",
   "metadata": {},
   "outputs": [],
   "source": [
    "from nltk.stem import PorterStemmer\n",
    "stemmer = PorterStemmer()"
   ]
  },
  {
   "cell_type": "code",
   "execution_count": 14,
   "id": "166c614a-566d-4c29-8ce2-061916990caa",
   "metadata": {},
   "outputs": [
    {
     "name": "stdout",
     "output_type": "stream",
     "text": [
      "eat | eat\n",
      "ate | ate\n",
      "eating | eat\n",
      "adjustable | adjust\n",
      "slipping | slip\n",
      "flying | fli\n",
      "link | link\n",
      "meeting | meet\n"
     ]
    }
   ],
   "source": [
    "#first do stemming\n",
    "words = [ 'eat','ate','eating','adjustable','slipping','flying','link','meeting']\n",
    "for word in words:\n",
    "    print(word ,'|',stemmer.stem(word))"
   ]
  },
  {
   "cell_type": "code",
   "execution_count": 19,
   "id": "85a5ef9a-e96b-4be4-ab08-1ae37828674e",
   "metadata": {},
   "outputs": [
    {
     "name": "stdout",
     "output_type": "stream",
     "text": [
      "He | he | 1655312771067108281\n",
      "ate | eat | 9837207709914848172\n",
      "eating | eat | 9837207709914848172\n",
      "adjustable | adjustable | 6033511944150694480\n",
      "better | well | 4525988469032889948\n"
     ]
    }
   ],
   "source": [
    "# now lemmatization\n",
    "nlp = spacy.load('en_core_web_sm')\n",
    "doc = nlp('He ate eating adjustable better')\n",
    "for token in doc:\n",
    "    print(token,'|',token.lemma_,'|',token.lemma)"
   ]
  },
  {
   "cell_type": "code",
   "execution_count": 24,
   "id": "246f678e-b226-4d8f-be5c-567807d1bf48",
   "metadata": {},
   "outputs": [
    {
     "name": "stdout",
     "output_type": "stream",
     "text": [
      "The | the | 7425985699627899538\n",
      "boy | boy | 6943052338024606995\n",
      "was | be | 10382539506755952630\n",
      "n't | not | 447765159362469301\n",
      "talking | talk | 13939146775466599234\n",
      "for | for | 16037325823156266367\n",
      "three | three | 8241648526530492509\n",
      "hours | hour | 9748623380567160636\n",
      "since | since | 10066841407251338481\n",
      "morning | morning | 128801579471171342\n"
     ]
    }
   ],
   "source": [
    "doc = nlp('''The boy was n't talking for three hours since morning''')\n",
    "for token in doc:\n",
    "    print(token,'|',token.lemma_,'|',token.lemma)\n"
   ]
  },
  {
   "cell_type": "markdown",
   "id": "433d9969-6772-4c48-b9a5-482056acfeb8",
   "metadata": {},
   "source": [
    "# cannot understand slang word so we use attribute_ruler for custom"
   ]
  },
  {
   "cell_type": "code",
   "execution_count": 42,
   "id": "e19ea2f8-a279-49ad-bf93-e175df65bc7f",
   "metadata": {},
   "outputs": [
    {
     "name": "stdout",
     "output_type": "stream",
     "text": [
      "Bro | brother\n",
      "how | how\n",
      "are | be\n",
      "you | you\n",
      ", | ,\n",
      "brah | brother\n"
     ]
    }
   ],
   "source": [
    "\n",
    "doc = nlp('Bro how are you, brah')\n",
    "for token in doc:\n",
    "    print(token,'|',token.lemma_)"
   ]
  },
  {
   "cell_type": "code",
   "execution_count": 43,
   "id": "7e704109-fbfc-404b-a385-4731672d2bab",
   "metadata": {},
   "outputs": [
    {
     "name": "stdout",
     "output_type": "stream",
     "text": [
      "Bro | brother\n",
      "how | how\n",
      "are | be\n",
      "you | you\n",
      ", | ,\n",
      "brah | brother\n"
     ]
    }
   ],
   "source": [
    "ar = nlp.get_pipe('attribute_ruler')\n",
    "ar.add([[{'text':'Bro'}],[{'text':'brah'}]],{'lemma':'brother'})\n",
    "doc = nlp('Bro how are you, brah')\n",
    "for token in doc:\n",
    "    print(token,'|',token.lemma_)"
   ]
  },
  {
   "cell_type": "code",
   "execution_count": 44,
   "id": "a5cb742b-755a-44e0-a236-03ab7f450997",
   "metadata": {},
   "outputs": [
    {
     "name": "stdout",
     "output_type": "stream",
     "text": [
      "Yo | Yes\n",
      "boy | boy\n",
      "Yeah | Yes\n"
     ]
    }
   ],
   "source": [
    "ar = nlp.get_pipe('attribute_ruler')\n",
    "ar.add([[{'text':'Yo'}],[{'text':'Yeah'}]],{'lemma':'Yes'})\n",
    "doc = nlp('Yo boy Yeah')\n",
    "for tok in doc:\n",
    "    print(tok,'|',tok.lemma_)"
   ]
  },
  {
   "cell_type": "code",
   "execution_count": 45,
   "id": "cce30dbf-6d6c-45e2-8542-44f94e5611d4",
   "metadata": {},
   "outputs": [
    {
     "data": {
      "text/plain": [
       "Yo"
      ]
     },
     "execution_count": 45,
     "metadata": {},
     "output_type": "execute_result"
    }
   ],
   "source": [
    "doc[0]"
   ]
  },
  {
   "cell_type": "code",
   "execution_count": 47,
   "id": "6f6b3f83-5b15-4e1a-82e6-9b8705482d91",
   "metadata": {},
   "outputs": [
    {
     "data": {
      "text/plain": [
       "'Yes'"
      ]
     },
     "execution_count": 47,
     "metadata": {},
     "output_type": "execute_result"
    }
   ],
   "source": [
    "doc[0].lemma_"
   ]
  },
  {
   "cell_type": "code",
   "execution_count": null,
   "id": "992f7a5b-61e9-48e9-b582-9e3523f2699c",
   "metadata": {},
   "outputs": [],
   "source": []
  }
 ],
 "metadata": {
  "kernelspec": {
   "display_name": "Python 3 (ipykernel)",
   "language": "python",
   "name": "python3"
  },
  "language_info": {
   "codemirror_mode": {
    "name": "ipython",
    "version": 3
   },
   "file_extension": ".py",
   "mimetype": "text/x-python",
   "name": "python",
   "nbconvert_exporter": "python",
   "pygments_lexer": "ipython3",
   "version": "3.12.6"
  }
 },
 "nbformat": 4,
 "nbformat_minor": 5
}
