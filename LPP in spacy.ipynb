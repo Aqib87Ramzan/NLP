{
 "cells": [
  {
   "cell_type": "markdown",
   "id": "dc2ed34e-e79d-43ad-96bd-17a15adade0a",
   "metadata": {},
   "source": [
    "# Langauge Processing Pipeline\n"
   ]
  },
  {
   "cell_type": "markdown",
   "id": "90e94cd6-c9c3-4a57-8467-aa49718ecf2b",
   "metadata": {},
   "source": [
    "It is not the blank pipeline which only consists of token\n",
    "It is actually pretrained model"
   ]
  },
  {
   "cell_type": "markdown",
   "id": "3db3e76e-8b4d-4577-a309-ef11f80b2833",
   "metadata": {},
   "source": [
    "1)  'tok2vec'\n",
    "2)  'tagger'\n",
    "3)  'parser'\n",
    "4)  'attribute_ruler'\n",
    "5)  'lemmatizer'\n",
    "6)   'ner'"
   ]
  },
  {
   "cell_type": "code",
   "execution_count": 29,
   "id": "2c667f90-7bf3-4206-bbc3-72f0847c82ac",
   "metadata": {},
   "outputs": [],
   "source": [
    "import spacy"
   ]
  },
  {
   "cell_type": "code",
   "execution_count": 30,
   "id": "61280866-fdd4-4c2f-9c3d-ce411c17f65e",
   "metadata": {},
   "outputs": [
    {
     "name": "stdout",
     "output_type": "stream",
     "text": [
      "Dr.\n",
      "Strange\n",
      "ate\n",
      "100\n",
      "$\n",
      "samosa\n",
      ".\n",
      "Then\n",
      "he\n",
      "lay\n",
      "on\n",
      "the\n",
      "ground\n"
     ]
    }
   ],
   "source": [
    "nlp = spacy.blank('en')\n",
    "doc = nlp(\"Dr.Strange ate 100$ samosa. Then he lay on the ground\")\n",
    "for token in doc:\n",
    "    print(token)\n"
   ]
  },
  {
   "cell_type": "code",
   "execution_count": 5,
   "id": "9eddded7-7346-4acf-b37e-786df554c543",
   "metadata": {},
   "outputs": [],
   "source": [
    "# using pretrained model"
   ]
  },
  {
   "cell_type": "code",
   "execution_count": 6,
   "id": "b2074c45-1d47-4366-8d62-1a2222f5c241",
   "metadata": {},
   "outputs": [],
   "source": [
    "nlp = spacy.load('en_core_web_sm')"
   ]
  },
  {
   "cell_type": "code",
   "execution_count": 7,
   "id": "83d1c36e-71e3-45db-a260-f87a1ae5d5c0",
   "metadata": {},
   "outputs": [
    {
     "data": {
      "text/plain": [
       "['tok2vec', 'tagger', 'parser', 'attribute_ruler', 'lemmatizer', 'ner']"
      ]
     },
     "execution_count": 7,
     "metadata": {},
     "output_type": "execute_result"
    }
   ],
   "source": [
    "nlp.pipe_names"
   ]
  },
  {
   "cell_type": "code",
   "execution_count": 9,
   "id": "f7f39b80-74d5-4eb4-9a24-5c8cbba37902",
   "metadata": {},
   "outputs": [
    {
     "name": "stdout",
     "output_type": "stream",
     "text": [
      "Dr. | PROPN | Dr.\n",
      "Strange | PROPN | Strange\n",
      "ate | VERB | eat\n",
      "100 | NUM | 100\n",
      "$ | NUM | $\n",
      "samosa | NOUN | samosa\n",
      ". | PUNCT | .\n",
      "Then | ADV | then\n",
      "he | PRON | he\n",
      "lay | VERB | lie\n",
      "on | ADP | on\n",
      "the | DET | the\n",
      "ground | NOUN | ground\n"
     ]
    }
   ],
   "source": [
    "doc = nlp('Dr.Strange ate 100$ samosa. Then he lay on the ground')\n",
    "for token in doc:\n",
    "    print(token, '|' , token.pos_ ,'|' , token.lemma_)"
   ]
  },
  {
   "cell_type": "code",
   "execution_count": 14,
   "id": "326c6967-85a3-484d-9010-44590b359b47",
   "metadata": {},
   "outputs": [
    {
     "name": "stdout",
     "output_type": "stream",
     "text": [
      "Tesla | ORG | Companies, agencies, institutions, etc.\n",
      "100$ billion | MONEY | Monetary values, including unit\n"
     ]
    }
   ],
   "source": [
    "doc = nlp('Tesla is goind to acquire twitter for 100$ billion')\n",
    "for ent in doc.ents:\n",
    "    print(ent.text , '|' , ent.label_ , '|' , spacy.explain(ent.label_))"
   ]
  },
  {
   "cell_type": "code",
   "execution_count": 16,
   "id": "002387cf-1e6a-4dc9-b976-e8d001974364",
   "metadata": {},
   "outputs": [
    {
     "data": {
      "text/html": [
       "<span class=\"tex2jax_ignore\"><div class=\"entities\" style=\"line-height: 2.5; direction: ltr\">\n",
       "<mark class=\"entity\" style=\"background: #7aecec; padding: 0.45em 0.6em; margin: 0 0.25em; line-height: 1; border-radius: 0.35em;\">\n",
       "    Tesla\n",
       "    <span style=\"font-size: 0.8em; font-weight: bold; line-height: 1; border-radius: 0.35em; vertical-align: middle; margin-left: 0.5rem\">ORG</span>\n",
       "</mark>\n",
       " is goind to acquire twitter for \n",
       "<mark class=\"entity\" style=\"background: #e4e7d2; padding: 0.45em 0.6em; margin: 0 0.25em; line-height: 1; border-radius: 0.35em;\">\n",
       "    100$ billion\n",
       "    <span style=\"font-size: 0.8em; font-weight: bold; line-height: 1; border-radius: 0.35em; vertical-align: middle; margin-left: 0.5rem\">MONEY</span>\n",
       "</mark>\n",
       "</div></span>"
      ],
      "text/plain": [
       "<IPython.core.display.HTML object>"
      ]
     },
     "metadata": {},
     "output_type": "display_data"
    }
   ],
   "source": [
    "from spacy import displacy\n",
    "displacy.render(doc, style = 'ent')"
   ]
  },
  {
   "cell_type": "code",
   "execution_count": 22,
   "id": "c0543205-c918-49ae-8a68-7901fc39111b",
   "metadata": {},
   "outputs": [
    {
     "name": "stdout",
     "output_type": "stream",
     "text": [
      "Bloomberg | ORG | Companies, agencies, institutions, etc.\n",
      "Bloomberg | ORG | Companies, agencies, institutions, etc.\n"
     ]
    },
    {
     "data": {
      "text/html": [
       "<span class=\"tex2jax_ignore\"><div class=\"entities\" style=\"line-height: 2.5; direction: ltr\">\n",
       "<mark class=\"entity\" style=\"background: #7aecec; padding: 0.45em 0.6em; margin: 0 0.25em; line-height: 1; border-radius: 0.35em;\">\n",
       "    Bloomberg\n",
       "    <span style=\"font-size: 0.8em; font-weight: bold; line-height: 1; border-radius: 0.35em; vertical-align: middle; margin-left: 0.5rem\">ORG</span>\n",
       "</mark>\n",
       " founded data company called \n",
       "<mark class=\"entity\" style=\"background: #7aecec; padding: 0.45em 0.6em; margin: 0 0.25em; line-height: 1; border-radius: 0.35em;\">\n",
       "    Bloomberg\n",
       "    <span style=\"font-size: 0.8em; font-weight: bold; line-height: 1; border-radius: 0.35em; vertical-align: middle; margin-left: 0.5rem\">ORG</span>\n",
       "</mark>\n",
       "</div></span>"
      ],
      "text/plain": [
       "<IPython.core.display.HTML object>"
      ]
     },
     "metadata": {},
     "output_type": "display_data"
    }
   ],
   "source": [
    "doc = nlp('Bloomberg founded data company called Bloomberg')\n",
    "for ent in doc.ents:\n",
    "    print(ent.text , '|' , ent.label_ , '|' , spacy.explain(ent.label_))\n",
    "displacy.render(doc , style = 'ent')"
   ]
  },
  {
   "cell_type": "code",
   "execution_count": 32,
   "id": "5cf6c84d-58f0-4b81-b0d9-7620013b6ccf",
   "metadata": {},
   "outputs": [],
   "source": [
    "#blank pipeline with custom component means adding ner in blank piepline"
   ]
  },
  {
   "cell_type": "code",
   "execution_count": 37,
   "id": "19fff984-b216-4197-a536-576a853e1e29",
   "metadata": {},
   "outputs": [
    {
     "data": {
      "text/plain": [
       "['ner']"
      ]
     },
     "execution_count": 37,
     "metadata": {},
     "output_type": "execute_result"
    }
   ],
   "source": [
    "source_nlp = spacy.load('en_core_web_sm')\n",
    "nlp = spacy.blank('en')\n",
    "nlp.add_pipe('ner' , source = source_nlp)\n",
    "nlp.pipe_names"
   ]
  },
  {
   "cell_type": "code",
   "execution_count": 48,
   "id": "c9095abe-606d-4d24-942d-aa79de41d090",
   "metadata": {},
   "outputs": [
    {
     "name": "stdout",
     "output_type": "stream",
     "text": [
      "Tesla | ORG | Companies, agencies, institutions, etc.\n",
      "100$ Billion | MONEY | Monetary values, including unit\n",
      "Elon Musk | PERSON | People, including fictional\n"
     ]
    }
   ],
   "source": [
    "doc = nlp('Tesla is acquring 100$ Billion by Elon Musk')\n",
    "for ent in doc.ents:\n",
    "    print(ent, '|', ent.label_, '|',spacy.explain(ent.label_))"
   ]
  },
  {
   "cell_type": "code",
   "execution_count": null,
   "id": "3f1aed9a-969b-459e-893a-4298ff0074fe",
   "metadata": {},
   "outputs": [],
   "source": []
  }
 ],
 "metadata": {
  "kernelspec": {
   "display_name": "Python 3 (ipykernel)",
   "language": "python",
   "name": "python3"
  },
  "language_info": {
   "codemirror_mode": {
    "name": "ipython",
    "version": 3
   },
   "file_extension": ".py",
   "mimetype": "text/x-python",
   "name": "python",
   "nbconvert_exporter": "python",
   "pygments_lexer": "ipython3",
   "version": "3.12.6"
  }
 },
 "nbformat": 4,
 "nbformat_minor": 5
}
