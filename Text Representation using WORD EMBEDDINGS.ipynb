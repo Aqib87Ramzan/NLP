{
 "cells": [
  {
   "cell_type": "markdown",
   "id": "7924528c-7395-4d73-a6a1-733484e8ba47",
   "metadata": {},
   "source": [
    "# all text representation techniques"
   ]
  },
  {
   "cell_type": "markdown",
   "id": "75d9d8a6-0b13-49ee-bfb0-c671323f0819",
   "metadata": {},
   "source": [
    "1) Label Encoding\n",
    "2) One hot encoding\n",
    "3) BOW / Bag of bgrams\n",
    "4) TF-IDF\n",
    "5) Word Embeddings"
   ]
  },
  {
   "cell_type": "markdown",
   "id": "d7020b69-672c-4efe-a924-c132a0ad0058",
   "metadata": {},
   "source": [
    "Word embedding is a technique in natural language processing (NLP) where words are represented as numerical vectors in a continuous vector space."
   ]
  },
  {
   "cell_type": "markdown",
   "id": "acbd866e-c865-4722-8cfc-520bb9da572f",
   "metadata": {},
   "source": [
    "# example\n",
    "vec(\"king\") - vec(\"man\") + vec(\"woman\") ≈ vec(\"queen\") that is checking royalty\n",
    "means King is to man like Queen is to woman"
   ]
  },
  {
   "cell_type": "code",
   "execution_count": 2,
   "id": "ebbfb890-6742-49a4-a2ce-7d2b60c824eb",
   "metadata": {},
   "outputs": [
    {
     "name": "stdout",
     "output_type": "stream",
     "text": [
      "C:\\Users\\hp\\AppData\\Local\\Programs\\Python\\Python312\\python.exe\n"
     ]
    }
   ],
   "source": [
    "import sys\n",
    "print(sys.executable)\n"
   ]
  },
  {
   "cell_type": "markdown",
   "id": "8026942f-b827-4ebe-986f-0e949aa3987f",
   "metadata": {},
   "source": [
    "# for small model there are no vectors so we have to install spacy large model for this using command\n",
    "python -m spacy download en_core_web_lg\n"
   ]
  },
  {
   "cell_type": "code",
   "execution_count": 3,
   "id": "94f8c403-1b23-4c36-8f3b-b455f4a9fb13",
   "metadata": {},
   "outputs": [],
   "source": [
    "import spacy\n",
    "nlp = spacy.load('en_core_web_lg')"
   ]
  },
  {
   "cell_type": "code",
   "execution_count": 8,
   "id": "375647e8-6df8-4f46-9484-801f4dd2c8c6",
   "metadata": {},
   "outputs": [
    {
     "name": "stdout",
     "output_type": "stream",
     "text": [
      "Doc Vector:  True OOV(Out of Vocabulary) False\n",
      "eat Vector:  True OOV(Out of Vocabulary) False\n",
      "banana Vector:  True OOV(Out of Vocabulary) False\n",
      "atskdf Vector:  False OOV(Out of Vocabulary) True\n",
      "real Vector:  True OOV(Out of Vocabulary) False\n",
      "unreal Vector:  True OOV(Out of Vocabulary) False\n",
      "nltk Vector:  True OOV(Out of Vocabulary) False\n",
      "spacy Vector:  True OOV(Out of Vocabulary) False\n"
     ]
    }
   ],
   "source": [
    "doc = nlp('Doc eat banana atskdf real unreal nltk spacy')\n",
    "for token in doc:\n",
    "    print(token.text, 'Vector: ', token.has_vector,'OOV(Out of Vocabulary)',token.is_oov)"
   ]
  },
  {
   "cell_type": "code",
   "execution_count": 10,
   "id": "35a1ef7f-2a60-48a8-8361-aa973767654e",
   "metadata": {},
   "outputs": [
    {
     "data": {
      "text/plain": [
       "array([-0.13722  , -0.52688  , -0.35784  ,  0.24045  , -0.0063051,\n",
       "        0.35148  ,  0.38431  , -0.95816  ,  0.17266  ,  0.77349  ,\n",
       "       -0.2229   ,  0.28055  ,  0.70914  , -0.26713  ,  0.28681  ,\n",
       "        0.32112  , -0.13009  ,  1.4402   ,  0.16254  , -0.32591  ,\n",
       "       -0.28049  ,  0.21229  , -0.45823  , -0.19894  , -0.19864  ,\n",
       "        0.13052  , -0.3766   , -0.48418  ,  0.35333  , -0.58879  ,\n",
       "       -0.15678  ,  0.21983  ,  0.42031  ,  0.36337  , -0.30001  ,\n",
       "       -0.024508 ,  0.19446  ,  0.41328  , -0.2012   ,  0.22364  ,\n",
       "        0.17096  ,  0.10029  ,  0.24495  , -0.20323  , -0.6692   ,\n",
       "        0.38278  ,  0.25185  ,  0.14352  ,  0.40977  , -0.26642  ,\n",
       "       -0.64849  ,  0.13148  ,  0.23316  ,  0.051105 , -0.017812 ,\n",
       "       -0.081657 ,  0.057336 , -0.046406 ,  0.14098  , -0.27798  ,\n",
       "       -0.58336  , -0.35755  ,  0.11267  ,  0.46025  ,  0.45763  ,\n",
       "       -0.53032  ,  0.1409   , -0.0017648,  0.17972  ,  0.3483   ,\n",
       "        0.24247  , -0.52674  ,  0.54641  ,  0.27628  ,  0.48709  ,\n",
       "        0.075134 ,  0.32609  ,  0.10391  , -0.16981  ,  0.64556  ,\n",
       "        0.36642  , -0.092486 , -0.0046148,  0.44226  , -0.54845  ,\n",
       "        0.20651  ,  0.73345  , -0.90062  ,  0.52374  ,  0.36686  ,\n",
       "       -0.3907   , -0.12612  ,  0.04995  , -0.14063  ,  0.51481  ,\n",
       "       -0.26035  ,  0.19737  , -0.56976  , -0.4622   ,  0.21448  ,\n",
       "       -0.061997 ,  0.094203 , -0.20408  , -0.10333  ,  0.073524 ,\n",
       "       -0.37311  ,  0.27099  , -0.11688  ,  0.0067503, -0.23907  ,\n",
       "       -0.29547  ,  0.2343   ,  0.053358 , -0.058797 , -0.68059  ,\n",
       "        0.46105  ,  0.38636  , -0.030455 ,  0.45499  ,  0.1508   ,\n",
       "        0.38956  , -0.0021766, -0.55547  ,  0.10579  , -0.22501  ,\n",
       "        0.52412  ,  0.3122   , -0.71094  ,  0.11746  ,  0.031989 ,\n",
       "       -0.16634  ,  0.40721  , -0.74743  , -0.093054 ,  0.35616  ,\n",
       "        0.20967  ,  0.39033  , -0.19417  ,  0.072413 , -0.14656  ,\n",
       "       -1.0405   , -0.13134  ,  0.11671  , -0.098469 ,  0.17717  ,\n",
       "        0.065177 ,  0.10857  ,  0.27021  , -0.45554  , -0.50077  ,\n",
       "        0.52619  , -0.023474 , -0.16705  , -0.15584  ,  0.1568   ,\n",
       "       -0.55425  , -0.50646  ,  0.09914  ,  0.14327  ,  0.36085  ,\n",
       "        0.12056  , -0.16476  , -0.58384  ,  0.055171 , -0.24439  ,\n",
       "        0.489    , -0.23426  , -0.045984 , -0.24016  , -0.76714  ,\n",
       "       -0.047538 , -0.26681  , -0.21207  , -0.23844  ,  0.37276  ,\n",
       "        0.41626  ,  0.057723 , -0.1603   , -0.16725  ,  0.52628  ,\n",
       "       -0.28942  , -0.2932   , -0.18978  ,  0.55231  , -0.10462  ,\n",
       "        0.041719 , -0.061356 ,  0.3716   , -0.32495  , -0.11894  ,\n",
       "       -0.29019  ,  0.27398  , -0.039389 ,  0.16597  , -0.087171 ,\n",
       "        0.25213  ,  0.15043  , -0.09783  ,  0.48095  , -0.49266  ,\n",
       "       -0.14786  , -0.0061486, -0.68679  ,  0.2122   , -0.16869  ,\n",
       "       -0.30056  , -0.10421  ,  0.16606  , -0.32285  ,  0.40998  ,\n",
       "        0.097359 , -0.55234  , -0.0090848,  0.27557  , -0.18005  ,\n",
       "       -0.075352 ,  0.28668  ,  0.024541 , -0.23773  , -0.47882  ,\n",
       "       -0.07504  , -0.074031 ,  0.080403 ,  0.41838  ,  0.096423 ,\n",
       "        0.93699  , -0.2106   ,  0.26648  ,  0.048456 , -0.52867  ,\n",
       "       -0.07085  ,  0.22048  ,  0.58179  ,  0.75869  , -0.65577  ,\n",
       "        0.25367  , -0.11896  ,  0.49385  ,  0.3781   ,  0.081549 ,\n",
       "       -0.31449  , -0.068757 , -0.28367  , -0.28422  ,  0.50612  ,\n",
       "       -0.12541  ,  0.57773  , -0.2052   ,  0.24867  , -0.7541   ,\n",
       "       -0.026002 ,  0.41818  ,  0.32402  , -0.18283  ,  0.40536  ,\n",
       "       -0.16941  , -0.62279  , -0.46799  , -0.2196   , -0.28508  ,\n",
       "       -0.6139   , -0.19674  ,  0.16869  , -0.099545 ,  0.79697  ,\n",
       "       -0.038431 ,  0.020631 ,  0.012855 ,  0.57099  ,  0.26891  ,\n",
       "       -0.040636 , -0.17783  , -0.16558  ,  0.18194  , -0.41023  ,\n",
       "       -0.089279 , -0.45053  , -0.03275  , -0.47442  ,  0.30956  ,\n",
       "        0.144    , -0.54173  , -0.058717 , -0.0061861, -0.015744 ,\n",
       "       -0.091059 , -0.26391  , -0.19268  , -0.28247  ,  0.21069  ,\n",
       "        0.93761  , -0.034168 , -0.27417  ,  0.029241 ,  0.18352  ,\n",
       "        0.16293  ,  0.17857  ,  0.23774  , -0.042155 , -0.39499  ],\n",
       "      dtype=float32)"
      ]
     },
     "execution_count": 10,
     "metadata": {},
     "output_type": "execute_result"
    }
   ],
   "source": [
    "doc[0].vector #for dog"
   ]
  },
  {
   "cell_type": "code",
   "execution_count": 11,
   "id": "b7e50380-732f-4b56-bcb1-81aed4d951f0",
   "metadata": {},
   "outputs": [
    {
     "data": {
      "text/plain": [
       "(300,)"
      ]
     },
     "execution_count": 11,
     "metadata": {},
     "output_type": "execute_result"
    }
   ],
   "source": [
    "doc[0].vector.shape"
   ]
  },
  {
   "cell_type": "code",
   "execution_count": 13,
   "id": "d70ba7e2-d95c-41c1-81d0-1352ec898af7",
   "metadata": {},
   "outputs": [
    {
     "data": {
      "text/plain": [
       "(300,)"
      ]
     },
     "execution_count": 13,
     "metadata": {},
     "output_type": "execute_result"
    }
   ],
   "source": [
    "base_token = nlp('bread')\n",
    "base_token.vector.shape"
   ]
  },
  {
   "cell_type": "code",
   "execution_count": 18,
   "id": "35b0e314-d9a6-4a59-a500-497321995af0",
   "metadata": {},
   "outputs": [
    {
     "name": "stdout",
     "output_type": "stream",
     "text": [
      "bread <-> bread: 1.0\n",
      "sandwich <-> bread: 0.6874560117721558\n",
      "burger <-> bread: 0.544037401676178\n",
      "car <-> bread: 0.16441147029399872\n",
      "tiger <-> bread: 0.14492356777191162\n",
      "can <-> bread: 0.2522165775299072\n",
      "eat <-> bread: 0.5966353416442871\n",
      "human <-> bread: 0.21103660762310028\n"
     ]
    }
   ],
   "source": [
    "doc = nlp('bread sandwich burger car tiger can eat human')\n",
    "# checking similarity between base_token and token.text\n",
    "for token in doc:\n",
    "    print(f\"{token.text} <-> {base_token.text}:\",token.similarity(base_token))"
   ]
  },
  {
   "cell_type": "code",
   "execution_count": 21,
   "id": "0e5adbe1-a179-49b2-8cb2-40da622a443c",
   "metadata": {},
   "outputs": [],
   "source": [
    "def print_similarity(base_word, words_to_compare):\n",
    "    base_token = nlp(base_word)\n",
    "    doc = nlp(words_to_compare)\n",
    "    for token in doc:\n",
    "        print(f\"{token.text} <-> {base_token.text}:\", token.similarity(base_token))"
   ]
  },
  {
   "cell_type": "code",
   "execution_count": 24,
   "id": "cd8260aa-cf07-4bb8-a892-ebe76e3df293",
   "metadata": {},
   "outputs": [
    {
     "name": "stdout",
     "output_type": "stream",
     "text": [
      "apple <-> iphone: 0.6339781284332275\n",
      "samsung <-> iphone: 0.6678677797317505\n",
      "mobile <-> iphone: 0.5656006336212158\n",
      "iphone <-> iphone: 1.0\n",
      "dog <-> iphone: 0.1743103712797165\n",
      "kitten <-> iphone: 0.1468581259250641\n",
      "aosudh <-> iphone: 0.0\n"
     ]
    },
    {
     "name": "stderr",
     "output_type": "stream",
     "text": [
      "C:\\Users\\hp\\AppData\\Local\\Temp\\ipykernel_10396\\1469643371.py:5: UserWarning: [W008] Evaluating Token.similarity based on empty vectors.\n",
      "  print(f\"{token.text} <-> {base_token.text}:\", token.similarity(base_token))\n"
     ]
    }
   ],
   "source": [
    "print_similarity(\"iphone\",\"apple samsung mobile iphone dog kitten aosudh\")"
   ]
  },
  {
   "cell_type": "code",
   "execution_count": 25,
   "id": "0e73abc8-42f0-4fbe-a1ce-af0071bb2cef",
   "metadata": {},
   "outputs": [],
   "source": [
    "# The best example for word embeddings"
   ]
  },
  {
   "cell_type": "code",
   "execution_count": 27,
   "id": "e061ac5f-8a24-4b26-bc40-a76bae5de359",
   "metadata": {},
   "outputs": [],
   "source": [
    "king = nlp.vocab[\"king\"].vector\n",
    "man = nlp.vocab[\"man\"].vector\n",
    "woman = nlp.vocab[\"woman\"].vector\n",
    "queen = nlp.vocab[\"queen\"].vector\n",
    "\n",
    "result = king - man + woman"
   ]
  },
  {
   "cell_type": "code",
   "execution_count": 28,
   "id": "b0fe680a-a11e-4446-8ca2-9830860469cb",
   "metadata": {},
   "outputs": [
    {
     "data": {
      "text/plain": [
       "array([[0.78808445]], dtype=float32)"
      ]
     },
     "execution_count": 28,
     "metadata": {},
     "output_type": "execute_result"
    }
   ],
   "source": [
    "# using cosing similarity for above problem\n",
    "from sklearn.metrics.pairwise import cosine_similarity\n",
    "cosine_similarity([result],[queen])"
   ]
  },
  {
   "cell_type": "code",
   "execution_count": null,
   "id": "bff7e13b-978c-4bbd-9cc4-2856fafd3bd2",
   "metadata": {},
   "outputs": [],
   "source": []
  }
 ],
 "metadata": {
  "kernelspec": {
   "display_name": "Python 3 (ipykernel)",
   "language": "python",
   "name": "python3"
  },
  "language_info": {
   "codemirror_mode": {
    "name": "ipython",
    "version": 3
   },
   "file_extension": ".py",
   "mimetype": "text/x-python",
   "name": "python",
   "nbconvert_exporter": "python",
   "pygments_lexer": "ipython3",
   "version": "3.12.6"
  }
 },
 "nbformat": 4,
 "nbformat_minor": 5
}
