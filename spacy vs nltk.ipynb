{
 "cells": [
  {
   "cell_type": "code",
   "execution_count": 1,
   "id": "64788cb2-2547-44f0-af3b-a3435256198d",
   "metadata": {},
   "outputs": [],
   "source": [
    "import spacy\n",
    "# spacy does not import stemming"
   ]
  },
  {
   "cell_type": "code",
   "execution_count": 11,
   "id": "fe69cfc0-2027-42c6-8d09-ef17d4af44a6",
   "metadata": {},
   "outputs": [
    {
     "name": "stderr",
     "output_type": "stream",
     "text": [
      "C:\\Users\\hp\\AppData\\Local\\Programs\\Python\\Python312\\Lib\\site-packages\\nltk\\metrics\\association.py:26: UserWarning: A NumPy version >=1.23.5 and <2.3.0 is required for this version of SciPy (detected version 2.3.1)\n",
      "  from scipy.stats import fisher_exact\n"
     ]
    }
   ],
   "source": [
    "import nltk"
   ]
  },
  {
   "cell_type": "code",
   "execution_count": 17,
   "id": "ec15d789-69f4-4b2c-be91-19475cba3f3f",
   "metadata": {},
   "outputs": [
    {
     "name": "stdout",
     "output_type": "stream",
     "text": [
      "hey how are you.are u fine\n"
     ]
    }
   ],
   "source": [
    "nlp = spacy.load('en_core_web_sm')\n",
    "doc = nlp('hey how are you.are u fine')\n",
    "for sentences in doc.sents:\n",
    "    print(sentences)"
   ]
  },
  {
   "cell_type": "code",
   "execution_count": 39,
   "id": "0beea166-579f-43c7-850a-c4666d80f61c",
   "metadata": {},
   "outputs": [
    {
     "name": "stdout",
     "output_type": "stream",
     "text": [
      "Dr.Hey how are you.\n",
      "Are u fine\n"
     ]
    }
   ],
   "source": [
    "nlp = spacy.load('en_core_web_sm')\n",
    "doc = nlp('Dr.Hey how are you.Are u fine')\n",
    "for sentences in doc.sents:\n",
    "    print(sentences)"
   ]
  },
  {
   "cell_type": "code",
   "execution_count": 26,
   "id": "88e0850a-cca1-43ac-bb81-49558e7ad616",
   "metadata": {},
   "outputs": [
    {
     "name": "stdout",
     "output_type": "stream",
     "text": [
      "hey\n",
      "how\n",
      "are\n",
      "you\n",
      ".\n",
      "Are\n",
      "u\n",
      "fine\n"
     ]
    }
   ],
   "source": [
    "for sentences in doc.sents:\n",
    "    for words in sentences:\n",
    "        print(words)"
   ]
  },
  {
   "cell_type": "code",
   "execution_count": 32,
   "id": "128aba1d-9bea-48e5-ae3d-0a895240cbd3",
   "metadata": {},
   "outputs": [
    {
     "name": "stdout",
     "output_type": "stream",
     "text": [
      "showing info https://raw.githubusercontent.com/nltk/nltk_data/gh-pages/index.xml\n"
     ]
    },
    {
     "data": {
      "text/plain": [
       "True"
      ]
     },
     "execution_count": 32,
     "metadata": {},
     "output_type": "execute_result"
    }
   ],
   "source": [
    "nltk.download()"
   ]
  },
  {
   "cell_type": "code",
   "execution_count": 33,
   "id": "80d0ac4c-9585-4c46-8d05-e9815589239f",
   "metadata": {},
   "outputs": [
    {
     "name": "stderr",
     "output_type": "stream",
     "text": [
      "[nltk_data] Downloading package punkt_tab to\n",
      "[nltk_data]     C:\\Users\\hp\\AppData\\Roaming\\nltk_data...\n",
      "[nltk_data]   Unzipping tokenizers\\punkt_tab.zip.\n"
     ]
    },
    {
     "data": {
      "text/plain": [
       "True"
      ]
     },
     "execution_count": 33,
     "metadata": {},
     "output_type": "execute_result"
    }
   ],
   "source": [
    "nltk.download('punkt_tab')"
   ]
  },
  {
   "cell_type": "code",
   "execution_count": 38,
   "id": "2cbf33df-e3ce-4947-b9b5-bb04641f1719",
   "metadata": {},
   "outputs": [
    {
     "data": {
      "text/plain": [
       "['Dr.', 'Strange how are you.', 'I am fine']"
      ]
     },
     "execution_count": 38,
     "metadata": {},
     "output_type": "execute_result"
    }
   ],
   "source": [
    "from nltk.tokenize import sent_tokenize\n",
    "sent_tokenize('Dr. Strange how are you. I am fine')"
   ]
  },
  {
   "cell_type": "code",
   "execution_count": 40,
   "id": "e4ad5917-f382-467f-bed0-8191548b10ec",
   "metadata": {},
   "outputs": [
    {
     "data": {
      "text/plain": [
       "['Dr', '.', 'Strange', 'how', 'are', 'you', '.', 'I', 'am', 'fine']"
      ]
     },
     "execution_count": 40,
     "metadata": {},
     "output_type": "execute_result"
    }
   ],
   "source": [
    "from nltk.tokenize import word_tokenize\n",
    "word_tokenize('Dr. Strange how are you. I am fine')"
   ]
  },
  {
   "cell_type": "markdown",
   "id": "3dadac80-fdd3-4004-89bb-14eabcc71062",
   "metadata": {},
   "source": [
    "# Spacy vs NLTK"
   ]
  },
  {
   "cell_type": "markdown",
   "id": "dde3c0d2-82d9-4d36-9e69-445a27d31d16",
   "metadata": {},
   "source": [
    "1) spacy is oop and nltk is string processing libraray\n",
    "2) spacy is more user-friendly\n",
    "3) efficient for nlp apps(spacy) vs nltk for accessing alogs"
   ]
  }
 ],
 "metadata": {
  "kernelspec": {
   "display_name": "Python 3 (ipykernel)",
   "language": "python",
   "name": "python3"
  },
  "language_info": {
   "codemirror_mode": {
    "name": "ipython",
    "version": 3
   },
   "file_extension": ".py",
   "mimetype": "text/x-python",
   "name": "python",
   "nbconvert_exporter": "python",
   "pygments_lexer": "ipython3",
   "version": "3.12.6"
  }
 },
 "nbformat": 4,
 "nbformat_minor": 5
}
