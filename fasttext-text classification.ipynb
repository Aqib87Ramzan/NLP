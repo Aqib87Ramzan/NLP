{
 "cells": [
  {
   "cell_type": "code",
   "execution_count": 157,
   "id": "e9c520b7-78ad-4dd3-b6b3-20ba26c26d62",
   "metadata": {},
   "outputs": [
    {
     "data": {
      "text/html": [
       "<div>\n",
       "<style scoped>\n",
       "    .dataframe tbody tr th:only-of-type {\n",
       "        vertical-align: middle;\n",
       "    }\n",
       "\n",
       "    .dataframe tbody tr th {\n",
       "        vertical-align: top;\n",
       "    }\n",
       "\n",
       "    .dataframe thead th {\n",
       "        text-align: right;\n",
       "    }\n",
       "</style>\n",
       "<table border=\"1\" class=\"dataframe\">\n",
       "  <thead>\n",
       "    <tr style=\"text-align: right;\">\n",
       "      <th></th>\n",
       "      <th>category</th>\n",
       "      <th>description</th>\n",
       "    </tr>\n",
       "  </thead>\n",
       "  <tbody>\n",
       "    <tr>\n",
       "      <th>0</th>\n",
       "      <td>category</td>\n",
       "      <td>description</td>\n",
       "    </tr>\n",
       "    <tr>\n",
       "      <th>1</th>\n",
       "      <td>Household</td>\n",
       "      <td>SAF 'Floral' Framed Painting (Wood, 30 inch x ...</td>\n",
       "    </tr>\n",
       "    <tr>\n",
       "      <th>2</th>\n",
       "      <td>Household</td>\n",
       "      <td>SAF 'UV Textured Modern Art Print Framed' Pain...</td>\n",
       "    </tr>\n",
       "    <tr>\n",
       "      <th>3</th>\n",
       "      <td>Household</td>\n",
       "      <td>SAF Flower Print Framed Painting (Synthetic, 1...</td>\n",
       "    </tr>\n",
       "    <tr>\n",
       "      <th>4</th>\n",
       "      <td>Household</td>\n",
       "      <td>Incredible Gifts India Wooden Happy Birthday U...</td>\n",
       "    </tr>\n",
       "  </tbody>\n",
       "</table>\n",
       "</div>"
      ],
      "text/plain": [
       "    category                                        description\n",
       "0   category                                        description\n",
       "1  Household  SAF 'Floral' Framed Painting (Wood, 30 inch x ...\n",
       "2  Household  SAF 'UV Textured Modern Art Print Framed' Pain...\n",
       "3  Household  SAF Flower Print Framed Painting (Synthetic, 1...\n",
       "4  Household  Incredible Gifts India Wooden Happy Birthday U..."
      ]
     },
     "execution_count": 157,
     "metadata": {},
     "output_type": "execute_result"
    }
   ],
   "source": [
    "import pandas as pd\n",
    "\n",
    "df = pd.read_csv(\n",
    "    r\"C:\\Users\\hp\\OneDrive - National University of Sciences & Technology\\Desktop\\ecommerce_dataset.csv\",\n",
    "    header=None,\n",
    "    encoding='latin1',\n",
    "    usecols=[0, 1],  # Only take first two columns\n",
    "    names=['category', 'description']  # Rename them\n",
    ")\n",
    "\n",
    "df.head()\n"
   ]
  },
  {
   "cell_type": "code",
   "execution_count": 158,
   "id": "defbccfc-27bd-4cf9-bacd-3ff0b6b65059",
   "metadata": {},
   "outputs": [
    {
     "data": {
      "text/html": [
       "<div>\n",
       "<style scoped>\n",
       "    .dataframe tbody tr th:only-of-type {\n",
       "        vertical-align: middle;\n",
       "    }\n",
       "\n",
       "    .dataframe tbody tr th {\n",
       "        vertical-align: top;\n",
       "    }\n",
       "\n",
       "    .dataframe thead th {\n",
       "        text-align: right;\n",
       "    }\n",
       "</style>\n",
       "<table border=\"1\" class=\"dataframe\">\n",
       "  <thead>\n",
       "    <tr style=\"text-align: right;\">\n",
       "      <th></th>\n",
       "      <th>category</th>\n",
       "      <th>description</th>\n",
       "    </tr>\n",
       "  </thead>\n",
       "  <tbody>\n",
       "    <tr>\n",
       "      <th>0</th>\n",
       "      <td>Household</td>\n",
       "      <td>SAF 'Floral' Framed Painting (Wood, 30 inch x ...</td>\n",
       "    </tr>\n",
       "    <tr>\n",
       "      <th>1</th>\n",
       "      <td>Household</td>\n",
       "      <td>SAF 'UV Textured Modern Art Print Framed' Pain...</td>\n",
       "    </tr>\n",
       "    <tr>\n",
       "      <th>2</th>\n",
       "      <td>Household</td>\n",
       "      <td>SAF Flower Print Framed Painting (Synthetic, 1...</td>\n",
       "    </tr>\n",
       "    <tr>\n",
       "      <th>3</th>\n",
       "      <td>Household</td>\n",
       "      <td>Incredible Gifts India Wooden Happy Birthday U...</td>\n",
       "    </tr>\n",
       "    <tr>\n",
       "      <th>4</th>\n",
       "      <td>Household</td>\n",
       "      <td>Pitaara Box Romantic Venice Canvas Painting 6m...</td>\n",
       "    </tr>\n",
       "  </tbody>\n",
       "</table>\n",
       "</div>"
      ],
      "text/plain": [
       "    category                                        description\n",
       "0  Household  SAF 'Floral' Framed Painting (Wood, 30 inch x ...\n",
       "1  Household  SAF 'UV Textured Modern Art Print Framed' Pain...\n",
       "2  Household  SAF Flower Print Framed Painting (Synthetic, 1...\n",
       "3  Household  Incredible Gifts India Wooden Happy Birthday U...\n",
       "4  Household  Pitaara Box Romantic Venice Canvas Painting 6m..."
      ]
     },
     "execution_count": 158,
     "metadata": {},
     "output_type": "execute_result"
    }
   ],
   "source": [
    "df = df.iloc[1:].reset_index(drop=True)\n",
    "df.head()"
   ]
  },
  {
   "cell_type": "code",
   "execution_count": 159,
   "id": "b536e989-1159-4f5d-a77b-5c0694a03cb1",
   "metadata": {},
   "outputs": [
    {
     "data": {
      "text/plain": [
       "category\n",
       "Household                                                                                                                                                                         19312\n",
       "Books                                                                                                                                                                             11820\n",
       "Electronics                                                                                                                                                                       10621\n",
       "Clothing & Accessories                                                                                                                                                             8671\n",
       "arate us. We will probably be married another ten years.Elizabeth Taylor                                                                                                              2\n",
       "cularists have little personal experience of religion and can be strikingly ignorant on religious Â subjects. Â Thereâs also a reflexive hostility to institutional religion        1\n",
       " our lives in our own hands. 2Certainty Is an IllusionNothing will ever separate us. We will probably be married another ten years.Elizabeth Taylor                                   1\n",
       "Name: count, dtype: int64"
      ]
     },
     "execution_count": 159,
     "metadata": {},
     "output_type": "execute_result"
    }
   ],
   "source": [
    "df.category.value_counts()"
   ]
  },
  {
   "cell_type": "code",
   "execution_count": 160,
   "id": "320a91f5-e5cc-40ee-bcb2-6af5c6de606d",
   "metadata": {},
   "outputs": [
    {
     "data": {
      "text/plain": [
       "(50428, 2)"
      ]
     },
     "execution_count": 160,
     "metadata": {},
     "output_type": "execute_result"
    }
   ],
   "source": [
    "df.shape"
   ]
  },
  {
   "cell_type": "code",
   "execution_count": 161,
   "id": "f7777492-0b2d-400c-a8b7-f33e7934b6d8",
   "metadata": {},
   "outputs": [],
   "source": [
    "df.dropna(inplace = True)"
   ]
  },
  {
   "cell_type": "code",
   "execution_count": 162,
   "id": "96fba8a2-d976-4081-8083-62b5678b5780",
   "metadata": {},
   "outputs": [
    {
     "data": {
      "text/plain": [
       "(50427, 2)"
      ]
     },
     "execution_count": 162,
     "metadata": {},
     "output_type": "execute_result"
    }
   ],
   "source": [
    "df.shape"
   ]
  },
  {
   "cell_type": "code",
   "execution_count": 163,
   "id": "572d0426-4e72-4f15-88b6-95f2e7e5de45",
   "metadata": {},
   "outputs": [
    {
     "name": "stderr",
     "output_type": "stream",
     "text": [
      "C:\\Users\\hp\\AppData\\Local\\Temp\\ipykernel_1036\\884070408.py:1: FutureWarning: A value is trying to be set on a copy of a DataFrame or Series through chained assignment using an inplace method.\n",
      "The behavior will change in pandas 3.0. This inplace method will never work because the intermediate object on which we are setting values always behaves as a copy.\n",
      "\n",
      "For example, when doing 'df[col].method(value, inplace=True)', try using 'df.method({col: value}, inplace=True)' or df[col] = df[col].method(value) instead, to perform the operation inplace on the original object.\n",
      "\n",
      "\n",
      "  df.category.replace('Clothing & Accessories','Clothing_Accessories', inplace = True)\n"
     ]
    }
   ],
   "source": [
    "df.category.replace('Clothing & Accessories','Clothing_Accessories', inplace = True)\n"
   ]
  },
  {
   "cell_type": "code",
   "execution_count": 164,
   "id": "eff2804d-e407-4b51-ac0b-e1593b5f29cc",
   "metadata": {},
   "outputs": [
    {
     "data": {
      "text/plain": [
       "array(['Household', 'Books',\n",
       "       'cularists have little personal experience of religion and can be strikingly ignorant on religious Â\\xa0subjects. Â\\xa0Thereâ\\x80\\x99s also a reflexive hostility to institutional religion',\n",
       "       'arate us. We will probably be married another ten years.Elizabeth Taylor',\n",
       "       ' our lives in our own hands. 2Certainty Is an IllusionNothing will ever separate us. We will probably be married another ten years.Elizabeth Taylor',\n",
       "       'Clothing_Accessories', 'Electronics'], dtype=object)"
      ]
     },
     "execution_count": 164,
     "metadata": {},
     "output_type": "execute_result"
    }
   ],
   "source": [
    "df.category.unique()"
   ]
  },
  {
   "cell_type": "code",
   "execution_count": 165,
   "id": "4caa52a5-b5f2-44b1-8999-9ff0d97ff96a",
   "metadata": {},
   "outputs": [
    {
     "data": {
      "text/plain": [
       "Index(['category', 'description'], dtype='object')"
      ]
     },
     "execution_count": 165,
     "metadata": {},
     "output_type": "execute_result"
    }
   ],
   "source": [
    "df.columns"
   ]
  },
  {
   "cell_type": "code",
   "execution_count": 166,
   "id": "ac123e69-a0dd-412a-9756-bcf1b20efee0",
   "metadata": {},
   "outputs": [
    {
     "data": {
      "text/html": [
       "<div>\n",
       "<style scoped>\n",
       "    .dataframe tbody tr th:only-of-type {\n",
       "        vertical-align: middle;\n",
       "    }\n",
       "\n",
       "    .dataframe tbody tr th {\n",
       "        vertical-align: top;\n",
       "    }\n",
       "\n",
       "    .dataframe thead th {\n",
       "        text-align: right;\n",
       "    }\n",
       "</style>\n",
       "<table border=\"1\" class=\"dataframe\">\n",
       "  <thead>\n",
       "    <tr style=\"text-align: right;\">\n",
       "      <th></th>\n",
       "      <th>category</th>\n",
       "      <th>description</th>\n",
       "    </tr>\n",
       "  </thead>\n",
       "  <tbody>\n",
       "    <tr>\n",
       "      <th>0</th>\n",
       "      <td>__label__Household</td>\n",
       "      <td>SAF 'Floral' Framed Painting (Wood, 30 inch x ...</td>\n",
       "    </tr>\n",
       "    <tr>\n",
       "      <th>1</th>\n",
       "      <td>__label__Household</td>\n",
       "      <td>SAF 'UV Textured Modern Art Print Framed' Pain...</td>\n",
       "    </tr>\n",
       "    <tr>\n",
       "      <th>2</th>\n",
       "      <td>__label__Household</td>\n",
       "      <td>SAF Flower Print Framed Painting (Synthetic, 1...</td>\n",
       "    </tr>\n",
       "  </tbody>\n",
       "</table>\n",
       "</div>"
      ],
      "text/plain": [
       "             category                                        description\n",
       "0  __label__Household  SAF 'Floral' Framed Painting (Wood, 30 inch x ...\n",
       "1  __label__Household  SAF 'UV Textured Modern Art Print Framed' Pain...\n",
       "2  __label__Household  SAF Flower Print Framed Painting (Synthetic, 1..."
      ]
     },
     "execution_count": 166,
     "metadata": {},
     "output_type": "execute_result"
    }
   ],
   "source": [
    "df['category'] = '__label__'+ df['category'].astype(str)\n",
    "df.head(3)"
   ]
  },
  {
   "cell_type": "code",
   "execution_count": 167,
   "id": "39f9e38c-0a49-4ac5-9acd-96330f3ba1b8",
   "metadata": {},
   "outputs": [
    {
     "data": {
      "text/html": [
       "<div>\n",
       "<style scoped>\n",
       "    .dataframe tbody tr th:only-of-type {\n",
       "        vertical-align: middle;\n",
       "    }\n",
       "\n",
       "    .dataframe tbody tr th {\n",
       "        vertical-align: top;\n",
       "    }\n",
       "\n",
       "    .dataframe thead th {\n",
       "        text-align: right;\n",
       "    }\n",
       "</style>\n",
       "<table border=\"1\" class=\"dataframe\">\n",
       "  <thead>\n",
       "    <tr style=\"text-align: right;\">\n",
       "      <th></th>\n",
       "      <th>category</th>\n",
       "      <th>description</th>\n",
       "    </tr>\n",
       "  </thead>\n",
       "  <tbody>\n",
       "    <tr>\n",
       "      <th>0</th>\n",
       "      <td>__label__Household</td>\n",
       "      <td>SAF 'Floral' Framed Painting (Wood, 30 inch x ...</td>\n",
       "    </tr>\n",
       "    <tr>\n",
       "      <th>1</th>\n",
       "      <td>__label__Household</td>\n",
       "      <td>SAF 'UV Textured Modern Art Print Framed' Pain...</td>\n",
       "    </tr>\n",
       "    <tr>\n",
       "      <th>2</th>\n",
       "      <td>__label__Household</td>\n",
       "      <td>SAF Flower Print Framed Painting (Synthetic, 1...</td>\n",
       "    </tr>\n",
       "  </tbody>\n",
       "</table>\n",
       "</div>"
      ],
      "text/plain": [
       "             category                                        description\n",
       "0  __label__Household  SAF 'Floral' Framed Painting (Wood, 30 inch x ...\n",
       "1  __label__Household  SAF 'UV Textured Modern Art Print Framed' Pain...\n",
       "2  __label__Household  SAF Flower Print Framed Painting (Synthetic, 1..."
      ]
     },
     "execution_count": 167,
     "metadata": {},
     "output_type": "execute_result"
    }
   ],
   "source": [
    "df.head(3)"
   ]
  },
  {
   "cell_type": "code",
   "execution_count": 168,
   "id": "194fa17c-0b9b-48fe-90f7-e98354642ad1",
   "metadata": {},
   "outputs": [],
   "source": [
    "df['category_description'] = df['category']+\" \"+df['description']"
   ]
  },
  {
   "cell_type": "code",
   "execution_count": 169,
   "id": "dea53b23-8569-4e49-81be-7c5d57972a31",
   "metadata": {},
   "outputs": [
    {
     "data": {
      "text/html": [
       "<div>\n",
       "<style scoped>\n",
       "    .dataframe tbody tr th:only-of-type {\n",
       "        vertical-align: middle;\n",
       "    }\n",
       "\n",
       "    .dataframe tbody tr th {\n",
       "        vertical-align: top;\n",
       "    }\n",
       "\n",
       "    .dataframe thead th {\n",
       "        text-align: right;\n",
       "    }\n",
       "</style>\n",
       "<table border=\"1\" class=\"dataframe\">\n",
       "  <thead>\n",
       "    <tr style=\"text-align: right;\">\n",
       "      <th></th>\n",
       "      <th>category</th>\n",
       "      <th>description</th>\n",
       "      <th>category_description</th>\n",
       "    </tr>\n",
       "  </thead>\n",
       "  <tbody>\n",
       "    <tr>\n",
       "      <th>0</th>\n",
       "      <td>__label__Household</td>\n",
       "      <td>SAF 'Floral' Framed Painting (Wood, 30 inch x ...</td>\n",
       "      <td>__label__Household SAF 'Floral' Framed Paintin...</td>\n",
       "    </tr>\n",
       "    <tr>\n",
       "      <th>1</th>\n",
       "      <td>__label__Household</td>\n",
       "      <td>SAF 'UV Textured Modern Art Print Framed' Pain...</td>\n",
       "      <td>__label__Household SAF 'UV Textured Modern Art...</td>\n",
       "    </tr>\n",
       "    <tr>\n",
       "      <th>2</th>\n",
       "      <td>__label__Household</td>\n",
       "      <td>SAF Flower Print Framed Painting (Synthetic, 1...</td>\n",
       "      <td>__label__Household SAF Flower Print Framed Pai...</td>\n",
       "    </tr>\n",
       "    <tr>\n",
       "      <th>3</th>\n",
       "      <td>__label__Household</td>\n",
       "      <td>Incredible Gifts India Wooden Happy Birthday U...</td>\n",
       "      <td>__label__Household Incredible Gifts India Wood...</td>\n",
       "    </tr>\n",
       "    <tr>\n",
       "      <th>4</th>\n",
       "      <td>__label__Household</td>\n",
       "      <td>Pitaara Box Romantic Venice Canvas Painting 6m...</td>\n",
       "      <td>__label__Household Pitaara Box Romantic Venice...</td>\n",
       "    </tr>\n",
       "  </tbody>\n",
       "</table>\n",
       "</div>"
      ],
      "text/plain": [
       "             category                                        description  \\\n",
       "0  __label__Household  SAF 'Floral' Framed Painting (Wood, 30 inch x ...   \n",
       "1  __label__Household  SAF 'UV Textured Modern Art Print Framed' Pain...   \n",
       "2  __label__Household  SAF Flower Print Framed Painting (Synthetic, 1...   \n",
       "3  __label__Household  Incredible Gifts India Wooden Happy Birthday U...   \n",
       "4  __label__Household  Pitaara Box Romantic Venice Canvas Painting 6m...   \n",
       "\n",
       "                                category_description  \n",
       "0  __label__Household SAF 'Floral' Framed Paintin...  \n",
       "1  __label__Household SAF 'UV Textured Modern Art...  \n",
       "2  __label__Household SAF Flower Print Framed Pai...  \n",
       "3  __label__Household Incredible Gifts India Wood...  \n",
       "4  __label__Household Pitaara Box Romantic Venice...  "
      ]
     },
     "execution_count": 169,
     "metadata": {},
     "output_type": "execute_result"
    }
   ],
   "source": [
    "df.head()"
   ]
  },
  {
   "cell_type": "code",
   "execution_count": 170,
   "id": "4ff9b06b-831b-4c7e-8b00-67c0fc36cec7",
   "metadata": {},
   "outputs": [
    {
     "data": {
      "text/plain": [
       "\"__label__Household SAF 'Floral' Framed Painting (Wood, 30 inch x 10 inch, Special Effect UV Print Textured, SAO297) Painting made up in synthetic frame with UV textured print which gives multi effects and attracts towards it. This is an special series of paintings which makes your wall very beautiful and gives a royal touch (A perfect gift for your special ones).\""
      ]
     },
     "execution_count": 170,
     "metadata": {},
     "output_type": "execute_result"
    }
   ],
   "source": [
    "df['category_description'][0]\n",
    "# need to do preprocessing i.e regex"
   ]
  },
  {
   "cell_type": "code",
   "execution_count": 171,
   "id": "5672165c-cc96-439b-851e-1db097525661",
   "metadata": {},
   "outputs": [],
   "source": [
    "# sample text\n",
    "import re"
   ]
  },
  {
   "cell_type": "code",
   "execution_count": 172,
   "id": "1fc29fa9-879a-4707-b5f6-54f47a3eb151",
   "metadata": {},
   "outputs": [],
   "source": [
    "text = \" VIKI's | Bookcase/Bookshelf (3-Shelf/Shelve, White) | ? . hi\" \n",
    "# VIKI's bookcase bookshelf 3 shelf shelve white hi"
   ]
  },
  {
   "cell_type": "code",
   "execution_count": 173,
   "id": "cd246b77-5db6-4e26-94e0-08ac20382636",
   "metadata": {},
   "outputs": [
    {
     "data": {
      "text/plain": [
       "\"viki's bookcase bookshelf 3 shelf shelve white hi\""
      ]
     },
     "execution_count": 173,
     "metadata": {},
     "output_type": "execute_result"
    }
   ],
   "source": [
    "text = re.sub(r\"[^\\w\\s']\",\" \",text)\n",
    "text = re.sub(r' +',\" \",text)\n",
    "text.strip().lower()"
   ]
  },
  {
   "cell_type": "code",
   "execution_count": 174,
   "id": "84668b79-6bd3-4753-a193-c41fa58c8acd",
   "metadata": {},
   "outputs": [],
   "source": [
    "def preprocess(text):\n",
    "    text = re.sub(r\"[^\\w\\s']\",\" \", text)\n",
    "    text = re.sub(r' +',\" \", text)\n",
    "    return text.strip().lower()"
   ]
  },
  {
   "cell_type": "code",
   "execution_count": 175,
   "id": "bad61c9c-47dc-4d97-9f33-ea5283a2d8d1",
   "metadata": {},
   "outputs": [
    {
     "data": {
      "text/plain": [
       "\"viki's bookcase bookshelf 3 shelf shelve white hi\""
      ]
     },
     "execution_count": 175,
     "metadata": {},
     "output_type": "execute_result"
    }
   ],
   "source": [
    "preprocess(\"VIKI's | \\\\\\\\^^*Bookcase/Bookshelf (3-Shelf/Shelve, White) | ? . hi\")"
   ]
  },
  {
   "cell_type": "markdown",
   "id": "bc1ecd14-99ba-45e5-9eab-072667a28023",
   "metadata": {},
   "source": [
    "# Simply put, we start with a raw dataset that contains a lot of noise such as extra whitespace, special characters, punctuation like periods and commas, etc. Our goal is to clean this data for training purposes. To do that, we take a sample unclean sentence and convert it into a clean one by writing a preprocessing function. This function can then be applied to the entire dataset to transform all the text consistently.After doing all this, we split our preprocessed data into  20% test and remaining 80% into training and making there separate files for specific column 'category_description'.Then start trainig the model of fasttext by giving it ecommerce.train data and after training , test the remainning(20%) ecommerce.test by using the same model after training"
   ]
  },
  {
   "cell_type": "code",
   "execution_count": 176,
   "id": "4f7f6238-f89b-4399-be8f-9c8c50634990",
   "metadata": {},
   "outputs": [],
   "source": [
    "# so use map function for this"
   ]
  },
  {
   "cell_type": "code",
   "execution_count": 177,
   "id": "397adbc5-54de-46e3-9e99-e5c2fd8135c3",
   "metadata": {},
   "outputs": [],
   "source": [
    "df['category_description'] = df['category_description'].map(preprocess)"
   ]
  },
  {
   "cell_type": "code",
   "execution_count": 178,
   "id": "7e73ad94-21be-47bc-a198-2855841e046a",
   "metadata": {},
   "outputs": [
    {
     "data": {
      "text/html": [
       "<div>\n",
       "<style scoped>\n",
       "    .dataframe tbody tr th:only-of-type {\n",
       "        vertical-align: middle;\n",
       "    }\n",
       "\n",
       "    .dataframe tbody tr th {\n",
       "        vertical-align: top;\n",
       "    }\n",
       "\n",
       "    .dataframe thead th {\n",
       "        text-align: right;\n",
       "    }\n",
       "</style>\n",
       "<table border=\"1\" class=\"dataframe\">\n",
       "  <thead>\n",
       "    <tr style=\"text-align: right;\">\n",
       "      <th></th>\n",
       "      <th>category</th>\n",
       "      <th>description</th>\n",
       "      <th>category_description</th>\n",
       "    </tr>\n",
       "  </thead>\n",
       "  <tbody>\n",
       "    <tr>\n",
       "      <th>0</th>\n",
       "      <td>__label__Household</td>\n",
       "      <td>SAF 'Floral' Framed Painting (Wood, 30 inch x ...</td>\n",
       "      <td>__label__household saf 'floral' framed paintin...</td>\n",
       "    </tr>\n",
       "    <tr>\n",
       "      <th>1</th>\n",
       "      <td>__label__Household</td>\n",
       "      <td>SAF 'UV Textured Modern Art Print Framed' Pain...</td>\n",
       "      <td>__label__household saf 'uv textured modern art...</td>\n",
       "    </tr>\n",
       "    <tr>\n",
       "      <th>2</th>\n",
       "      <td>__label__Household</td>\n",
       "      <td>SAF Flower Print Framed Painting (Synthetic, 1...</td>\n",
       "      <td>__label__household saf flower print framed pai...</td>\n",
       "    </tr>\n",
       "    <tr>\n",
       "      <th>3</th>\n",
       "      <td>__label__Household</td>\n",
       "      <td>Incredible Gifts India Wooden Happy Birthday U...</td>\n",
       "      <td>__label__household incredible gifts india wood...</td>\n",
       "    </tr>\n",
       "    <tr>\n",
       "      <th>4</th>\n",
       "      <td>__label__Household</td>\n",
       "      <td>Pitaara Box Romantic Venice Canvas Painting 6m...</td>\n",
       "      <td>__label__household pitaara box romantic venice...</td>\n",
       "    </tr>\n",
       "  </tbody>\n",
       "</table>\n",
       "</div>"
      ],
      "text/plain": [
       "             category                                        description  \\\n",
       "0  __label__Household  SAF 'Floral' Framed Painting (Wood, 30 inch x ...   \n",
       "1  __label__Household  SAF 'UV Textured Modern Art Print Framed' Pain...   \n",
       "2  __label__Household  SAF Flower Print Framed Painting (Synthetic, 1...   \n",
       "3  __label__Household  Incredible Gifts India Wooden Happy Birthday U...   \n",
       "4  __label__Household  Pitaara Box Romantic Venice Canvas Painting 6m...   \n",
       "\n",
       "                                category_description  \n",
       "0  __label__household saf 'floral' framed paintin...  \n",
       "1  __label__household saf 'uv textured modern art...  \n",
       "2  __label__household saf flower print framed pai...  \n",
       "3  __label__household incredible gifts india wood...  \n",
       "4  __label__household pitaara box romantic venice...  "
      ]
     },
     "execution_count": 178,
     "metadata": {},
     "output_type": "execute_result"
    }
   ],
   "source": [
    "df.head(5)"
   ]
  },
  {
   "cell_type": "markdown",
   "id": "239335fc-cc5a-4b94-b8b6-1baaf7f8e2de",
   "metadata": {},
   "source": [
    "# Training the model"
   ]
  },
  {
   "cell_type": "code",
   "execution_count": 179,
   "id": "adb0375e-d122-4af4-9987-41aa83b607bf",
   "metadata": {},
   "outputs": [],
   "source": [
    "from sklearn.model_selection import train_test_split\n",
    "train, test = train_test_split(df, test_size = 0.2)\n",
    "# \"Put 20% of the data in test, and the remaining 80% in train so they are never the same"
   ]
  },
  {
   "cell_type": "code",
   "execution_count": 180,
   "id": "4be8c926-a24c-4186-980c-70e1b972630e",
   "metadata": {},
   "outputs": [
    {
     "data": {
      "text/plain": [
       "((40341, 3), (10086, 3))"
      ]
     },
     "execution_count": 180,
     "metadata": {},
     "output_type": "execute_result"
    }
   ],
   "source": [
    "train.shape, test.shape"
   ]
  },
  {
   "cell_type": "code",
   "execution_count": 181,
   "id": "40b3f312-50c4-49f4-bd26-d2f408fed57a",
   "metadata": {},
   "outputs": [
    {
     "data": {
      "text/html": [
       "<div>\n",
       "<style scoped>\n",
       "    .dataframe tbody tr th:only-of-type {\n",
       "        vertical-align: middle;\n",
       "    }\n",
       "\n",
       "    .dataframe tbody tr th {\n",
       "        vertical-align: top;\n",
       "    }\n",
       "\n",
       "    .dataframe thead th {\n",
       "        text-align: right;\n",
       "    }\n",
       "</style>\n",
       "<table border=\"1\" class=\"dataframe\">\n",
       "  <thead>\n",
       "    <tr style=\"text-align: right;\">\n",
       "      <th></th>\n",
       "      <th>category</th>\n",
       "      <th>description</th>\n",
       "      <th>category_description</th>\n",
       "    </tr>\n",
       "  </thead>\n",
       "  <tbody>\n",
       "    <tr>\n",
       "      <th>20553</th>\n",
       "      <td>__label__Books</td>\n",
       "      <td>Pigeon by Stovekraft Handy Mini Plastic Choppe...</td>\n",
       "      <td>__label__books pigeon by stovekraft handy mini...</td>\n",
       "    </tr>\n",
       "    <tr>\n",
       "      <th>16883</th>\n",
       "      <td>__label__Household</td>\n",
       "      <td>Fortune Stainless Steel 24 Inch Folding Towel ...</td>\n",
       "      <td>__label__household fortune stainless steel 24 ...</td>\n",
       "    </tr>\n",
       "    <tr>\n",
       "      <th>1034</th>\n",
       "      <td>__label__Household</td>\n",
       "      <td>Supreme Mall Stainless Steel Folding Camp Chai...</td>\n",
       "      <td>__label__household supreme mall stainless stee...</td>\n",
       "    </tr>\n",
       "    <tr>\n",
       "      <th>19303</th>\n",
       "      <td>__label__Household</td>\n",
       "      <td>Godrej Security Solutions Esquire Electronic S...</td>\n",
       "      <td>__label__household godrej security solutions e...</td>\n",
       "    </tr>\n",
       "    <tr>\n",
       "      <th>20562</th>\n",
       "      <td>__label__Books</td>\n",
       "      <td>iDream Kid's PVC Pig Family Toy Set Action Fig...</td>\n",
       "      <td>__label__books idream kid's pvc pig family toy...</td>\n",
       "    </tr>\n",
       "  </tbody>\n",
       "</table>\n",
       "</div>"
      ],
      "text/plain": [
       "                 category                                        description  \\\n",
       "20553      __label__Books  Pigeon by Stovekraft Handy Mini Plastic Choppe...   \n",
       "16883  __label__Household  Fortune Stainless Steel 24 Inch Folding Towel ...   \n",
       "1034   __label__Household  Supreme Mall Stainless Steel Folding Camp Chai...   \n",
       "19303  __label__Household  Godrej Security Solutions Esquire Electronic S...   \n",
       "20562      __label__Books  iDream Kid's PVC Pig Family Toy Set Action Fig...   \n",
       "\n",
       "                                    category_description  \n",
       "20553  __label__books pigeon by stovekraft handy mini...  \n",
       "16883  __label__household fortune stainless steel 24 ...  \n",
       "1034   __label__household supreme mall stainless stee...  \n",
       "19303  __label__household godrej security solutions e...  \n",
       "20562  __label__books idream kid's pvc pig family toy...  "
      ]
     },
     "execution_count": 181,
     "metadata": {},
     "output_type": "execute_result"
    }
   ],
   "source": [
    "train.head()"
   ]
  },
  {
   "cell_type": "code",
   "execution_count": 182,
   "id": "d6fe2604-de6c-4a0e-afb5-7243dba7b70e",
   "metadata": {},
   "outputs": [
    {
     "data": {
      "text/html": [
       "<div>\n",
       "<style scoped>\n",
       "    .dataframe tbody tr th:only-of-type {\n",
       "        vertical-align: middle;\n",
       "    }\n",
       "\n",
       "    .dataframe tbody tr th {\n",
       "        vertical-align: top;\n",
       "    }\n",
       "\n",
       "    .dataframe thead th {\n",
       "        text-align: right;\n",
       "    }\n",
       "</style>\n",
       "<table border=\"1\" class=\"dataframe\">\n",
       "  <thead>\n",
       "    <tr style=\"text-align: right;\">\n",
       "      <th></th>\n",
       "      <th>category</th>\n",
       "      <th>description</th>\n",
       "      <th>category_description</th>\n",
       "    </tr>\n",
       "  </thead>\n",
       "  <tbody>\n",
       "    <tr>\n",
       "      <th>23406</th>\n",
       "      <td>__label__Books</td>\n",
       "      <td>Zen Golf: Mastering the Mental Game Review â...</td>\n",
       "      <td>__label__books zen golf mastering the mental g...</td>\n",
       "    </tr>\n",
       "    <tr>\n",
       "      <th>39669</th>\n",
       "      <td>__label__Clothing_Accessories</td>\n",
       "      <td>FashMind Women's Hoodies Sweatshirt STAY FASHI...</td>\n",
       "      <td>__label__clothing_accessories fashmind women's...</td>\n",
       "    </tr>\n",
       "    <tr>\n",
       "      <th>31623</th>\n",
       "      <td>__label__Clothing_Accessories</td>\n",
       "      <td>Mothercare Baby Boys' Snowsuit Soft, snuggly a...</td>\n",
       "      <td>__label__clothing_accessories mothercare baby ...</td>\n",
       "    </tr>\n",
       "    <tr>\n",
       "      <th>12390</th>\n",
       "      <td>__label__Household</td>\n",
       "      <td>Crompton CG-IHL 152 1500-Watt Immersion Water ...</td>\n",
       "      <td>__label__household crompton cg ihl 152 1500 wa...</td>\n",
       "    </tr>\n",
       "    <tr>\n",
       "      <th>23965</th>\n",
       "      <td>__label__Books</td>\n",
       "      <td>Faster than Lightning My Story About the Autho...</td>\n",
       "      <td>__label__books faster than lightning my story ...</td>\n",
       "    </tr>\n",
       "  </tbody>\n",
       "</table>\n",
       "</div>"
      ],
      "text/plain": [
       "                            category  \\\n",
       "23406                 __label__Books   \n",
       "39669  __label__Clothing_Accessories   \n",
       "31623  __label__Clothing_Accessories   \n",
       "12390             __label__Household   \n",
       "23965                 __label__Books   \n",
       "\n",
       "                                             description  \\\n",
       "23406  Zen Golf: Mastering the Mental Game Review â...   \n",
       "39669  FashMind Women's Hoodies Sweatshirt STAY FASHI...   \n",
       "31623  Mothercare Baby Boys' Snowsuit Soft, snuggly a...   \n",
       "12390  Crompton CG-IHL 152 1500-Watt Immersion Water ...   \n",
       "23965  Faster than Lightning My Story About the Autho...   \n",
       "\n",
       "                                    category_description  \n",
       "23406  __label__books zen golf mastering the mental g...  \n",
       "39669  __label__clothing_accessories fashmind women's...  \n",
       "31623  __label__clothing_accessories mothercare baby ...  \n",
       "12390  __label__household crompton cg ihl 152 1500 wa...  \n",
       "23965  __label__books faster than lightning my story ...  "
      ]
     },
     "execution_count": 182,
     "metadata": {},
     "output_type": "execute_result"
    }
   ],
   "source": [
    "test.head()"
   ]
  },
  {
   "cell_type": "code",
   "execution_count": 183,
   "id": "e72d32d6-1b4b-45d0-b157-b0a30dade968",
   "metadata": {},
   "outputs": [],
   "source": [
    "train.to_csv(\"ecommerce.train\", columns = ['category_description'], index = False, header = False)\n"
   ]
  },
  {
   "cell_type": "code",
   "execution_count": 184,
   "id": "a3c465f9-7719-4bff-b26f-a1def5ac6cf4",
   "metadata": {},
   "outputs": [],
   "source": [
    "test.to_csv(\"ecommerce.test\", columns = ['category_description'], index = False, header = False)"
   ]
  },
  {
   "cell_type": "code",
   "execution_count": 185,
   "id": "315301fa-2501-4938-a78f-b663a1054102",
   "metadata": {},
   "outputs": [],
   "source": [
    "import fasttext"
   ]
  },
  {
   "cell_type": "markdown",
   "id": "488ebda7-8759-4f9d-aaca-695ee66667a9",
   "metadata": {},
   "source": [
    "# training the model using fasttext for ecommerce.train"
   ]
  },
  {
   "cell_type": "code",
   "execution_count": 186,
   "id": "98e00205-6d04-4e69-bef2-fbf2ed53d3f1",
   "metadata": {},
   "outputs": [],
   "source": [
    "model = fasttext.train_supervised(input = 'ecommerce.train')"
   ]
  },
  {
   "cell_type": "markdown",
   "id": "8d217986-1faf-4041-a60d-306c3fc19f0a",
   "metadata": {},
   "source": [
    "# testing the model for ecommerce.test"
   ]
  },
  {
   "cell_type": "code",
   "execution_count": 193,
   "id": "c5738dfd-7d6b-4c36-9e16-3467d4bd9690",
   "metadata": {},
   "outputs": [
    {
     "data": {
      "text/plain": [
       "(10081, 0.971828191647654, 0.971828191647654)"
      ]
     },
     "execution_count": 193,
     "metadata": {},
     "output_type": "execute_result"
    }
   ],
   "source": [
    "model.test('ecommerce.test')\n",
    "# result shows this is very accurate"
   ]
  },
  {
   "cell_type": "code",
   "execution_count": 188,
   "id": "82220c42-7897-4b8d-b4d0-48445f34f03c",
   "metadata": {},
   "outputs": [
    {
     "data": {
      "text/plain": [
       "(('__label__electronics',), array([0.98973513]))"
      ]
     },
     "execution_count": 188,
     "metadata": {},
     "output_type": "execute_result"
    }
   ],
   "source": [
    "model.predict('wintech assemble desktop pc cpu 500 ram intel c2d processor')"
   ]
  },
  {
   "cell_type": "code",
   "execution_count": 189,
   "id": "d1e73f40-b734-4418-83ab-16b4b0bcbf31",
   "metadata": {},
   "outputs": [
    {
     "data": {
      "text/plain": [
       "(('__label__books',), array([1.00000989]))"
      ]
     },
     "execution_count": 189,
     "metadata": {},
     "output_type": "execute_result"
    }
   ],
   "source": [
    "model.predict('think and grow rich delux edition')"
   ]
  },
  {
   "cell_type": "code",
   "execution_count": null,
   "id": "8844f5a0-700b-4040-ad73-e20d0cbc3c0d",
   "metadata": {},
   "outputs": [],
   "source": []
  }
 ],
 "metadata": {
  "kernelspec": {
   "display_name": "Python 3 (ipykernel)",
   "language": "python",
   "name": "python3"
  },
  "language_info": {
   "codemirror_mode": {
    "name": "ipython",
    "version": 3
   },
   "file_extension": ".py",
   "mimetype": "text/x-python",
   "name": "python",
   "nbconvert_exporter": "python",
   "pygments_lexer": "ipython3",
   "version": "3.12.6"
  }
 },
 "nbformat": 4,
 "nbformat_minor": 5
}
