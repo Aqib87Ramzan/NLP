{
 "cells": [
  {
   "cell_type": "markdown",
   "id": "08b46465-c43d-4a0f-a176-3d9598d9027a",
   "metadata": {},
   "source": [
    "PATTERN MATCHING"
   ]
  },
  {
   "cell_type": "code",
   "execution_count": 1,
   "id": "411e0a92-36c8-4c0c-adc5-f1ae3b67b2dc",
   "metadata": {},
   "outputs": [],
   "source": [
    "import re"
   ]
  },
  {
   "cell_type": "markdown",
   "id": "1a167c67-46d4-4f4b-9733-7261f1671054",
   "metadata": {},
   "source": [
    "# for pattern matching like phone numbers"
   ]
  },
  {
   "cell_type": "code",
   "execution_count": 40,
   "id": "20784b43-aa67-4119-930e-21353b4060de",
   "metadata": {},
   "outputs": [],
   "source": [
    "chat1 = 'codebasics: you ask lot of questions 😏 1235678912, abc@xyz.com'\n",
    "chat2 = 'codebasics: here it is: (123)-567-8912, abc@xyz.com'\n",
    "chat3 = 'codebasics: yes, phone: 1235678912 email: abc@xyz.com'"
   ]
  },
  {
   "cell_type": "code",
   "execution_count": 41,
   "id": "c7019910-0c8d-4c2f-8599-14586cd9b1b5",
   "metadata": {},
   "outputs": [
    {
     "name": "stderr",
     "output_type": "stream",
     "text": [
      "<>:1: SyntaxWarning: invalid escape sequence '\\d'\n",
      "<>:1: SyntaxWarning: invalid escape sequence '\\d'\n",
      "C:\\Users\\hp\\AppData\\Local\\Temp\\ipykernel_7040\\1882818219.py:1: SyntaxWarning: invalid escape sequence '\\d'\n",
      "  pattern = '\\d{10}'\n"
     ]
    },
    {
     "data": {
      "text/plain": [
       "['1235678912']"
      ]
     },
     "execution_count": 41,
     "metadata": {},
     "output_type": "execute_result"
    }
   ],
   "source": [
    "pattern = '\\d{10}'\n",
    "matches = re.findall(pattern, chat1)\n",
    "matches"
   ]
  },
  {
   "cell_type": "code",
   "execution_count": 42,
   "id": "0243058c-ff02-410a-82e2-8746b728e2dd",
   "metadata": {},
   "outputs": [
    {
     "name": "stderr",
     "output_type": "stream",
     "text": [
      "<>:1: SyntaxWarning: invalid escape sequence '\\d'\n",
      "<>:1: SyntaxWarning: invalid escape sequence '\\d'\n",
      "C:\\Users\\hp\\AppData\\Local\\Temp\\ipykernel_7040\\3085912224.py:1: SyntaxWarning: invalid escape sequence '\\d'\n",
      "  pattern = '\\d{10}'\n"
     ]
    },
    {
     "data": {
      "text/plain": [
       "[]"
      ]
     },
     "execution_count": 42,
     "metadata": {},
     "output_type": "execute_result"
    }
   ],
   "source": [
    "pattern = '\\d{10}'\n",
    "matches = re.findall(pattern, chat2)\n",
    "matches"
   ]
  },
  {
   "cell_type": "code",
   "execution_count": 43,
   "id": "a22a80b9-862f-48e1-9f60-71724e9aa4ff",
   "metadata": {},
   "outputs": [
    {
     "name": "stderr",
     "output_type": "stream",
     "text": [
      "<>:2: SyntaxWarning: invalid escape sequence '\\d'\n",
      "<>:2: SyntaxWarning: invalid escape sequence '\\d'\n",
      "C:\\Users\\hp\\AppData\\Local\\Temp\\ipykernel_7040\\3276444386.py:2: SyntaxWarning: invalid escape sequence '\\d'\n",
      "  pattern = '\\d{10}'\n"
     ]
    },
    {
     "data": {
      "text/plain": [
       "['1235678912', '9999999999']"
      ]
     },
     "execution_count": 43,
     "metadata": {},
     "output_type": "execute_result"
    }
   ],
   "source": [
    "chat4 = 'codebasics: you ask lot of questions 😏 1235678912, abc@xyz.com, 9999999999'\n",
    "pattern = '\\d{10}'\n",
    "matches = re.findall(pattern, chat4)\n",
    "matches"
   ]
  },
  {
   "cell_type": "code",
   "execution_count": 44,
   "id": "9ddf30ff-b7b3-4955-a07f-a81414dd3919",
   "metadata": {},
   "outputs": [
    {
     "name": "stderr",
     "output_type": "stream",
     "text": [
      "<>:1: SyntaxWarning: invalid escape sequence '\\d'\n",
      "<>:1: SyntaxWarning: invalid escape sequence '\\d'\n",
      "C:\\Users\\hp\\AppData\\Local\\Temp\\ipykernel_7040\\2452283077.py:1: SyntaxWarning: invalid escape sequence '\\d'\n",
      "  pattern = '\\d{10}|\\(\\d{3}\\)-\\d{3}-\\d{4}'\n"
     ]
    },
    {
     "data": {
      "text/plain": [
       "['(123)-567-8912']"
      ]
     },
     "execution_count": 44,
     "metadata": {},
     "output_type": "execute_result"
    }
   ],
   "source": [
    "pattern = '\\d{10}|\\(\\d{3}\\)-\\d{3}-\\d{4}'\n",
    "matches = re.findall(pattern, chat2)\n",
    "matches"
   ]
  },
  {
   "cell_type": "markdown",
   "id": "d4c6b15e-566d-48b7-81b4-ec11b4f9a4cf",
   "metadata": {},
   "source": [
    "#for pattern matching like email"
   ]
  },
  {
   "cell_type": "code",
   "execution_count": 52,
   "id": "9ad3ed1d-8818-4e25-b8e6-87b60947219f",
   "metadata": {},
   "outputs": [
    {
     "data": {
      "text/plain": [
       "'abc@xyz.com'"
      ]
     },
     "execution_count": 52,
     "metadata": {},
     "output_type": "execute_result"
    }
   ],
   "source": [
    "pattern = '[a-z0-9A-Z_]*@[a-z0-9A-Z]*.com'\n",
    "matches = re.findall(pattern, chat1)\n",
    "matches\n",
    "email = matches[0]\n",
    "email"
   ]
  },
  {
   "cell_type": "code",
   "execution_count": 53,
   "id": "efa9793e-be0d-4a95-bc79-b2a1fb1d99b6",
   "metadata": {},
   "outputs": [],
   "source": [
    "chat1='codebasics: Hello, I am having an issue with my order # 412889912'\n",
    "chat2='codebasics: I have a problem with my order number 412889912'\n",
    "chat3='codebasics: My order 412889912 is having an issue, I was charged 300$ when online it says 280$'\n"
   ]
  },
  {
   "cell_type": "code",
   "execution_count": 54,
   "id": "b0d6bb32-27c9-4b21-bbd0-69b6e90a2dfd",
   "metadata": {},
   "outputs": [
    {
     "name": "stderr",
     "output_type": "stream",
     "text": [
      "<>:1: SyntaxWarning: invalid escape sequence '\\d'\n",
      "<>:1: SyntaxWarning: invalid escape sequence '\\d'\n",
      "C:\\Users\\hp\\AppData\\Local\\Temp\\ipykernel_7040\\1669202331.py:1: SyntaxWarning: invalid escape sequence '\\d'\n",
      "  pattern = 'order[^\\d]*(\\d*)'\n"
     ]
    },
    {
     "data": {
      "text/plain": [
       "['412889912']"
      ]
     },
     "execution_count": 54,
     "metadata": {},
     "output_type": "execute_result"
    }
   ],
   "source": [
    "pattern = 'order[^\\d]*(\\d*)'\n",
    "matches = re.findall(pattern,chat1)\n",
    "matches"
   ]
  },
  {
   "cell_type": "code",
   "execution_count": 55,
   "id": "4c704cda-4ebd-4e80-aaca-d242ebaf4d1b",
   "metadata": {},
   "outputs": [
    {
     "name": "stderr",
     "output_type": "stream",
     "text": [
      "<>:1: SyntaxWarning: invalid escape sequence '\\d'\n",
      "<>:1: SyntaxWarning: invalid escape sequence '\\d'\n",
      "C:\\Users\\hp\\AppData\\Local\\Temp\\ipykernel_7040\\3904716272.py:1: SyntaxWarning: invalid escape sequence '\\d'\n",
      "  pattern = 'order[^\\d]*\\d*'\n"
     ]
    },
    {
     "data": {
      "text/plain": [
       "['order # 412889912']"
      ]
     },
     "execution_count": 55,
     "metadata": {},
     "output_type": "execute_result"
    }
   ],
   "source": [
    "pattern = 'order[^\\d]*\\d*'\n",
    "matches = re.findall(pattern,chat1)\n",
    "matches"
   ]
  },
  {
   "cell_type": "markdown",
   "id": "653d29b4-b85f-4aa5-8849-e0c680e59be1",
   "metadata": {},
   "source": [
    "# INFORMATION EXTRACTION"
   ]
  },
  {
   "cell_type": "code",
   "execution_count": 58,
   "id": "54b766bf-7c05-4ff3-be9b-a506097b1d52",
   "metadata": {},
   "outputs": [],
   "source": [
    "import re"
   ]
  },
  {
   "cell_type": "code",
   "execution_count": 60,
   "id": "0e360ebf-642b-4b4e-9ed2-4c84c5cae01b",
   "metadata": {},
   "outputs": [],
   "source": [
    "text = '''\n",
    "Born\tElon Reeve Musk\n",
    "June 28, 1971 (age 53)\n",
    "Pretoria, South Africa\n",
    "Citizenship\t\n",
    "South Africa (since 1971)\n",
    "Canada (since 1989)\n",
    "United States (since 2002)\n",
    "Political party\tIndependent\n",
    "Spouses\t\n",
    "Justine Wilson\n",
    "​\n",
    "​(m. 2000; div. 2008)​\n",
    "Talulah Riley\n",
    "​\n",
    "​(m. 2010; div. 2016)​\n",
    "Children\tAt least 14[1]\n",
    "Parents\t\n",
    "Errol Musk (father)\n",
    "Maye Musk (mother)\n",
    "Relatives\tMusk family\n",
    "Education\tUniversity of Pennsylvania (BA, BS)\n",
    "Occupation\t\n",
    "CEO and product architect of Tesla\n",
    "Founder, CEO, and chief engineer of SpaceX\n",
    "Founder and CEO of xAI\n",
    "Founder of the Boring Company and X Corp.\n",
    "Co-founder of Neuralink, OpenAI, Zip2, and X.com (part of PayPal)\n",
    "President of the Musk Foundation\n",
    "Awards\tFull list\n",
    "Signature\t\n",
    "'''"
   ]
  },
  {
   "cell_type": "code",
   "execution_count": 65,
   "id": "9a2f5d95-8d59-46ad-a6b0-a7416e5dc1be",
   "metadata": {},
   "outputs": [
    {
     "name": "stderr",
     "output_type": "stream",
     "text": [
      "<>:1: SyntaxWarning: invalid escape sequence '\\d'\n",
      "<>:1: SyntaxWarning: invalid escape sequence '\\d'\n",
      "C:\\Users\\hp\\AppData\\Local\\Temp\\ipykernel_7040\\1760133117.py:1: SyntaxWarning: invalid escape sequence '\\d'\n",
      "  pattern = 'age (\\d+)'\n"
     ]
    },
    {
     "data": {
      "text/plain": [
       "'53'"
      ]
     },
     "execution_count": 65,
     "metadata": {},
     "output_type": "execute_result"
    }
   ],
   "source": [
    "pattern = 'age (\\d+)'\n",
    "matches = re.findall(pattern, text)\n",
    "matches[0]\n"
   ]
  },
  {
   "cell_type": "code",
   "execution_count": 67,
   "id": "75d6028e-4164-4b01-8df0-8077acaa0c01",
   "metadata": {},
   "outputs": [
    {
     "data": {
      "text/plain": [
       "'\\tElon Reeve Musk'"
      ]
     },
     "execution_count": 67,
     "metadata": {},
     "output_type": "execute_result"
    }
   ],
   "source": [
    "pattern = 'Born(.*)'\n",
    "matches = re.findall(pattern, text)\n",
    "matches[0]\n"
   ]
  },
  {
   "cell_type": "code",
   "execution_count": 68,
   "id": "fdbca720-4f4f-4d44-9ae4-1837f83469aa",
   "metadata": {},
   "outputs": [],
   "source": [
    "def get_pattern_match(pattern, text):\n",
    "    matches = re.findall(pattern, text)\n",
    "    if matches:\n",
    "        return matches"
   ]
  },
  {
   "cell_type": "code",
   "execution_count": 70,
   "id": "9226e6b8-8a93-42e4-bca5-0b4197b3166d",
   "metadata": {},
   "outputs": [
    {
     "data": {
      "text/plain": [
       "['\\tElon Reeve Musk']"
      ]
     },
     "execution_count": 70,
     "metadata": {},
     "output_type": "execute_result"
    }
   ],
   "source": [
    "get_pattern_match('Born(.*)',text)"
   ]
  },
  {
   "cell_type": "code",
   "execution_count": 77,
   "id": "f5b722a0-3f1f-4f8e-87ad-da93382b26a6",
   "metadata": {},
   "outputs": [
    {
     "name": "stdout",
     "output_type": "stream",
     "text": [
      "{'age': 52, 'name': 'Elon Reeve Musk', 'birth_date': 'June 28, 1971', 'birth_place': 'Pretoria, Transvaal, South Africa'}\n"
     ]
    }
   ],
   "source": [
    "import re\n",
    "\n",
    "def get_pattern_match(pattern, text):\n",
    "    match = re.search(pattern, text)\n",
    "    return match.group(1) if match else ''\n",
    "\n",
    "def get_personal_information(text):\n",
    "    age = get_pattern_match(r'age (\\d+)', text)\n",
    "    full_name = get_pattern_match(r'Born(.*)\\n', text)\n",
    "    birth_date = get_pattern_match(r'Born.*\\n(.*)\\(age', text)\n",
    "    birth_place = get_pattern_match(r'\\(age.*\\n(.*)', text)\n",
    "\n",
    "    return {\n",
    "        'age': int(age),\n",
    "        'name': full_name.strip(),\n",
    "        'birth_date': birth_date.strip(),\n",
    "        'birth_place': birth_place.strip()\n",
    "    }\n",
    "\n",
    "# Example input\n",
    "text = \"\"\"Born\\tElon Reeve Musk\n",
    "June 28, 1971 (age 52)\n",
    "Pretoria, Transvaal, South Africa\"\"\"\n",
    "\n",
    "info = get_personal_information(text)\n",
    "print(info)\n"
   ]
  },
  {
   "cell_type": "code",
   "execution_count": 80,
   "id": "1d3150f1-f1ab-4dd8-8ef8-7f55f7535d24",
   "metadata": {},
   "outputs": [
    {
     "data": {
      "text/plain": [
       "{'age': 52,\n",
       " 'name': 'Elon Reeve Musk',\n",
       " 'birth_date': 'June 28, 1971',\n",
       " 'birth_place': 'Pretoria, Transvaal, South Africa'}"
      ]
     },
     "execution_count": 80,
     "metadata": {},
     "output_type": "execute_result"
    }
   ],
   "source": [
    "get_personal_information(text)"
   ]
  },
  {
   "cell_type": "markdown",
   "id": "80e38eeb-51a9-40be-9469-192b69110e48",
   "metadata": {},
   "source": [
    "# nlp techniques\n",
    "# 1) Rules and Heuristics.\n",
    "# 2) ML\n",
    "# 3) DL"
   ]
  },
  {
   "cell_type": "code",
   "execution_count": null,
   "id": "47dbf80a-d608-4255-8971-a96bc2905f05",
   "metadata": {},
   "outputs": [],
   "source": []
  }
 ],
 "metadata": {
  "kernelspec": {
   "display_name": "Python 3 (ipykernel)",
   "language": "python",
   "name": "python3"
  },
  "language_info": {
   "codemirror_mode": {
    "name": "ipython",
    "version": 3
   },
   "file_extension": ".py",
   "mimetype": "text/x-python",
   "name": "python",
   "nbconvert_exporter": "python",
   "pygments_lexer": "ipython3",
   "version": "3.12.6"
  }
 },
 "nbformat": 4,
 "nbformat_minor": 5
}
