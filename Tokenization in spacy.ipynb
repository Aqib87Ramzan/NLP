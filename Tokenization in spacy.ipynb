{
 "cells": [
  {
   "cell_type": "markdown",
   "id": "8bd53d00-2941-47a6-8b8b-3a371afed666",
   "metadata": {},
   "source": [
    "# Tokenization"
   ]
  },
  {
   "cell_type": "code",
   "execution_count": 2,
   "id": "af971284-2301-4db0-8d9c-10fa961d5428",
   "metadata": {},
   "outputs": [],
   "source": [
    "# splitting text into meaningful segments"
   ]
  },
  {
   "cell_type": "code",
   "execution_count": 9,
   "id": "d12e0ad8-1b23-463d-8e4f-a50ad0aca042",
   "metadata": {},
   "outputs": [],
   "source": [
    "import spacy"
   ]
  },
  {
   "cell_type": "code",
   "execution_count": 22,
   "id": "43c900a1-5ef1-4959-b340-317a59a292fd",
   "metadata": {},
   "outputs": [
    {
     "name": "stdout",
     "output_type": "stream",
     "text": [
      "Dr.\n",
      "Strange\n",
      "is\n",
      "good\n",
      ",\n",
      "He\n",
      "loves\n",
      "work\n",
      "%\n",
      "%\n",
      "22\n",
      "k.m\n"
     ]
    }
   ],
   "source": [
    "nlp  = spacy.blank('en')\n",
    "doc = nlp('Dr. Strange is good ,He loves work %%22 k.m')\n",
    "for token in doc:\n",
    "    print(token)"
   ]
  },
  {
   "cell_type": "code",
   "execution_count": 23,
   "id": "27fd8a20-2d3e-4b68-ae69-c42e6e85d613",
   "metadata": {},
   "outputs": [
    {
     "name": "stdout",
     "output_type": "stream",
     "text": [
      "Let\n",
      "'s\n",
      "go\n",
      "to\n",
      "N.Y.\n",
      "!\n"
     ]
    }
   ],
   "source": [
    "doc = nlp(\"Let's go to N.Y.!\")\n",
    "for token in doc:\n",
    "    print(token)"
   ]
  },
  {
   "cell_type": "code",
   "execution_count": 27,
   "id": "ae2dc2d1-d400-4c73-9512-97f271d0930f",
   "metadata": {},
   "outputs": [
    {
     "name": "stdout",
     "output_type": "stream",
     "text": [
      "Let\n",
      "'s\n",
      "go\n",
      "to\n",
      "n.\n",
      "Y.\n",
      "!\n",
      "n.\n",
      "Y\n"
     ]
    }
   ],
   "source": [
    "doc = nlp(\"Let's go to n.Y.! n.Y\")\n",
    "for token in doc:\n",
    "    print(token)"
   ]
  },
  {
   "cell_type": "code",
   "execution_count": 28,
   "id": "69c4dfd0-e427-4b15-867d-21b4c4434b46",
   "metadata": {},
   "outputs": [
    {
     "data": {
      "text/plain": [
       "spacy.lang.en.English"
      ]
     },
     "execution_count": 28,
     "metadata": {},
     "output_type": "execute_result"
    }
   ],
   "source": [
    "type(nlp)"
   ]
  },
  {
   "cell_type": "code",
   "execution_count": 46,
   "id": "f343f1ad-07ed-4c92-8e5c-9c9e01f8d289",
   "metadata": {},
   "outputs": [
    {
     "data": {
      "text/plain": [
       "Tony"
      ]
     },
     "execution_count": 46,
     "metadata": {},
     "output_type": "execute_result"
    }
   ],
   "source": [
    "doc = nlp('Tony is two $ boy')\n",
    "token0 = doc[0]\n",
    "token0"
   ]
  },
  {
   "cell_type": "code",
   "execution_count": 47,
   "id": "1cd4e595-8023-4681-a91d-0e6eb9767cde",
   "metadata": {},
   "outputs": [
    {
     "data": {
      "text/plain": [
       "True"
      ]
     },
     "execution_count": 47,
     "metadata": {},
     "output_type": "execute_result"
    }
   ],
   "source": [
    "token0.is_alpha"
   ]
  },
  {
   "cell_type": "code",
   "execution_count": 48,
   "id": "5b5da6c7-5422-4877-844a-a8fabfa48726",
   "metadata": {},
   "outputs": [
    {
     "data": {
      "text/plain": [
       "False"
      ]
     },
     "execution_count": 48,
     "metadata": {},
     "output_type": "execute_result"
    }
   ],
   "source": [
    "token0.like_num"
   ]
  },
  {
   "cell_type": "code",
   "execution_count": 49,
   "id": "d7756393-8375-4d14-a6df-fc912fa994e1",
   "metadata": {},
   "outputs": [
    {
     "data": {
      "text/plain": [
       "'two'"
      ]
     },
     "execution_count": 49,
     "metadata": {},
     "output_type": "execute_result"
    }
   ],
   "source": [
    "token2 = doc[2]\n",
    "token2.text"
   ]
  },
  {
   "cell_type": "code",
   "execution_count": 50,
   "id": "61eae423-9d8c-4e4b-b3e8-61b4a373c859",
   "metadata": {},
   "outputs": [
    {
     "data": {
      "text/plain": [
       "True"
      ]
     },
     "execution_count": 50,
     "metadata": {},
     "output_type": "execute_result"
    }
   ],
   "source": [
    "token2.like_num"
   ]
  },
  {
   "cell_type": "code",
   "execution_count": 51,
   "id": "eaf439e4-3f3b-44af-a340-00fb495233e5",
   "metadata": {},
   "outputs": [
    {
     "data": {
      "text/plain": [
       "$"
      ]
     },
     "execution_count": 51,
     "metadata": {},
     "output_type": "execute_result"
    }
   ],
   "source": [
    "token3 = doc[3]\n",
    "token3"
   ]
  },
  {
   "cell_type": "code",
   "execution_count": 52,
   "id": "981b394a-6f0e-41d0-9876-c31a9824d568",
   "metadata": {},
   "outputs": [
    {
     "data": {
      "text/plain": [
       "True"
      ]
     },
     "execution_count": 52,
     "metadata": {},
     "output_type": "execute_result"
    }
   ],
   "source": [
    "token3.is_currency"
   ]
  },
  {
   "cell_type": "code",
   "execution_count": 7,
   "id": "db761843-8bdf-42ca-8b25-6da0a20f19e3",
   "metadata": {},
   "outputs": [
    {
     "name": "stdout",
     "output_type": "stream",
     "text": [
      "['name \\tbday\\temail\\n', '=====\\t====\\t======\\n', 'joe\\t12\\tjo@gmail.com\\n', 'loe\\t13 \\tlo@gmail.com\\n', 'foe\\t20\\tko@gmail.com\\n', 'toe\\t22\\tto@gmail.com ']\n"
     ]
    },
    {
     "name": "stderr",
     "output_type": "stream",
     "text": [
      "<>:1: SyntaxWarning: invalid escape sequence '\\s'\n",
      "<>:1: SyntaxWarning: invalid escape sequence '\\s'\n",
      "C:\\Users\\hp\\AppData\\Local\\Temp\\ipykernel_2780\\219772538.py:1: SyntaxWarning: invalid escape sequence '\\s'\n",
      "  with open(\"C:\\students.txt\") as f:\n"
     ]
    }
   ],
   "source": [
    "with open(\"C:\\students.txt\") as f:\n",
    "    text = f.readlines()\n",
    "\n",
    "print(text)\n"
   ]
  },
  {
   "cell_type": "code",
   "execution_count": 13,
   "id": "83c74553-e844-4892-b70f-2129bf416166",
   "metadata": {},
   "outputs": [
    {
     "name": "stdout",
     "output_type": "stream",
     "text": [
      "This False False\n",
      "is False False\n",
      "100 False True\n",
      "$ True False\n",
      "real False False\n"
     ]
    }
   ],
   "source": [
    "nlp = spacy.blank('en')\n",
    "doc = nlp ('This is 100$ real')\n",
    "for token in doc:\n",
    "    print(token, token.is_currency, token.like_num)"
   ]
  },
  {
   "cell_type": "code",
   "execution_count": 19,
   "id": "4087e4e6-9a7f-4b2e-878b-2c6aa30812fc",
   "metadata": {},
   "outputs": [
    {
     "name": "stdout",
     "output_type": "stream",
     "text": [
      "['gim', 'me', 'double', 'cheese', 'burger', 'giveme', 'fast']\n"
     ]
    }
   ],
   "source": [
    "from spacy.symbols import ORTH\n",
    "#special case\n",
    "nlp.tokenizer.add_special_case(\"gimme\",[\n",
    "    {ORTH :\"gim\"},\n",
    "    {ORTH: \"me\"}\n",
    "])\n",
    "\n",
    "#applying above tokenizer to sample sentence\n",
    "doc = nlp(\"gimme double cheese burger giveme fast\")\n",
    "tokens = [token.text for token in doc]\n",
    "print(tokens)"
   ]
  },
  {
   "cell_type": "code",
   "execution_count": null,
   "id": "d2b3bc47-6e78-4af1-9069-f8ada6a124df",
   "metadata": {},
   "outputs": [],
   "source": []
  }
 ],
 "metadata": {
  "kernelspec": {
   "display_name": "Python 3 (ipykernel)",
   "language": "python",
   "name": "python3"
  },
  "language_info": {
   "codemirror_mode": {
    "name": "ipython",
    "version": 3
   },
   "file_extension": ".py",
   "mimetype": "text/x-python",
   "name": "python",
   "nbconvert_exporter": "python",
   "pygments_lexer": "ipython3",
   "version": "3.12.6"
  }
 },
 "nbformat": 4,
 "nbformat_minor": 5
}
