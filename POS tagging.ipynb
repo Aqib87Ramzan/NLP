{
 "cells": [
  {
   "cell_type": "markdown",
   "id": "eed5a377-6450-488d-b0e9-2b9f1ecc9c6e",
   "metadata": {},
   "source": [
    "# POS tagging"
   ]
  },
  {
   "cell_type": "markdown",
   "id": "949b4499-b566-4784-a7e1-9d6eee96bffd",
   "metadata": {},
   "source": [
    "1) POS Tagging is the process of labeling each word in a sentence with its part of speech, such as noun, verb, adjective, etc."
   ]
  },
  {
   "cell_type": "code",
   "execution_count": 2,
   "id": "e23dabd6-2e75-4733-a1e3-4d1e15e73e75",
   "metadata": {},
   "outputs": [],
   "source": [
    "import spacy\n",
    "nlp = spacy.load('en_core_web_sm')"
   ]
  },
  {
   "cell_type": "code",
   "execution_count": 8,
   "id": "089db986-6205-444a-b79b-09b1930ff994",
   "metadata": {},
   "outputs": [
    {
     "name": "stdout",
     "output_type": "stream",
     "text": [
      "Elon | 96 | PROPN | proper noun\n",
      "musk | 92 | NOUN | noun\n",
      "bought | 100 | VERB | verb\n",
      "Twitter | 96 | PROPN | proper noun\n",
      "for | 85 | ADP | adposition\n",
      "100 | 93 | NUM | numeral\n",
      "$ | 99 | SYM | symbol\n",
      "Billion | 93 | NUM | numeral\n"
     ]
    }
   ],
   "source": [
    "doc = nlp('Elon musk bought Twitter for 100$ Billion')\n",
    "for token in doc:\n",
    "    print(token,'|',token.pos,'|',token.pos_,'|',spacy.explain(token.pos_))"
   ]
  },
  {
   "cell_type": "code",
   "execution_count": 15,
   "id": "72772711-0e21-4b72-b588-e7a30ef88ff7",
   "metadata": {},
   "outputs": [
    {
     "name": "stdout",
     "output_type": "stream",
     "text": [
      "Elon | PROPN | proper noun | NNP | noun, proper singular\n",
      "musk | NOUN | noun | NN | noun, singular or mass\n",
      "bought | VERB | verb | VBD | verb, past tense\n",
      "Twitter | PROPN | proper noun | NNP | noun, proper singular\n",
      "for | ADP | adposition | IN | conjunction, subordinating or preposition\n",
      "100 | NUM | numeral | CD | cardinal number\n",
      "$ | SYM | symbol | $ | symbol, currency\n",
      "Billion | NUM | numeral | CD | cardinal number\n"
     ]
    }
   ],
   "source": [
    "#for more details like past tens use tags\n",
    "doc = nlp('Elon musk bought Twitter for 100$ Billion')\n",
    "for token in doc:\n",
    "    print(token,'|',token.pos_,'|',spacy.explain(token.pos_),'|', token.tag_,'|',spacy.explain(token.tag_))"
   ]
  },
  {
   "cell_type": "code",
   "execution_count": 19,
   "id": "f395bfaf-76f8-40f2-a38d-46dec3b5933e",
   "metadata": {},
   "outputs": [],
   "source": [
    "# spacy is smart enough let's see the imp thing"
   ]
  },
  {
   "cell_type": "code",
   "execution_count": 20,
   "id": "53ecdfbd-b811-469b-baeb-f1c7074629eb",
   "metadata": {},
   "outputs": [
    {
     "name": "stdout",
     "output_type": "stream",
     "text": [
      "quits | VBZ verb, 3rd person singular present\n"
     ]
    }
   ],
   "source": [
    "doc = nlp ('He quits the job')\n",
    "print(doc[1],'|',doc[1].tag_,spacy.explain(doc[1].tag_))"
   ]
  },
  {
   "cell_type": "code",
   "execution_count": 21,
   "id": "db28dabe-abb9-466b-a729-10382c5e8aba",
   "metadata": {},
   "outputs": [
    {
     "name": "stdout",
     "output_type": "stream",
     "text": [
      "quit | VBD verb, past tense\n"
     ]
    }
   ],
   "source": [
    "doc = nlp ('He quit the job')\n",
    "print(doc[1],'|',doc[1].tag_,spacy.explain(doc[1].tag_))"
   ]
  },
  {
   "cell_type": "code",
   "execution_count": 26,
   "id": "452e1788-5763-43b8-a71d-80faff122e52",
   "metadata": {},
   "outputs": [],
   "source": [
    "earning_text = '''Microsoft Corp. today announced the following results for the quarter ended June 30, 2024, as compared to the corresponding period of last fiscal year:\n",
    "\n",
    "·        Revenue was $64.7 billion and increased 15% (up 16% in constant currency)\n",
    "\n",
    "·        Operating income was $27.9 billion and increased 15% (up 16% in constant currency)\n",
    "\n",
    "·        Net income was $22.0 billion and increased 10% (up 11% in constant currency)\n",
    "\n",
    "·        Diluted earnings per share was $2.95 and increased 10% (up 11% in constant currency)'''"
   ]
  },
  {
   "cell_type": "code",
   "execution_count": 25,
   "id": "d4203e99-400f-493b-bc06-55ccd477faa9",
   "metadata": {},
   "outputs": [
    {
     "name": "stdout",
     "output_type": "stream",
     "text": [
      "  | SPACE | space\n",
      "Microsoft | PROPN | proper noun\n",
      "Corp. | PROPN | proper noun\n",
      "today | NOUN | noun\n",
      "announced | VERB | verb\n",
      "the | DET | determiner\n",
      "following | VERB | verb\n",
      "results | NOUN | noun\n",
      "for | ADP | adposition\n",
      "the | DET | determiner\n",
      "quarter | NOUN | noun\n",
      "ended | VERB | verb\n",
      "June | PROPN | proper noun\n",
      "30 | NUM | numeral\n",
      ", | PUNCT | punctuation\n",
      "2024 | NUM | numeral\n",
      ", | PUNCT | punctuation\n",
      "as | SCONJ | subordinating conjunction\n",
      "compared | VERB | verb\n",
      "to | ADP | adposition\n",
      "the | DET | determiner\n",
      "corresponding | ADJ | adjective\n",
      "period | NOUN | noun\n",
      "of | ADP | adposition\n",
      "last | ADJ | adjective\n",
      "fiscal | ADJ | adjective\n",
      "year | NOUN | noun\n",
      ": | PUNCT | punctuation\n",
      "\n",
      "\n",
      " | SPACE | space\n",
      "· | PUNCT | punctuation\n",
      "        | SPACE | space\n",
      "Revenue | NOUN | noun\n",
      "was | AUX | auxiliary\n",
      "$ | SYM | symbol\n",
      "64.7 | NUM | numeral\n",
      "billion | NUM | numeral\n",
      "and | CCONJ | coordinating conjunction\n",
      "increased | VERB | verb\n",
      "15 | NUM | numeral\n",
      "% | NOUN | noun\n",
      "( | PUNCT | punctuation\n",
      "up | ADV | adverb\n",
      "16 | NUM | numeral\n",
      "% | NOUN | noun\n",
      "in | ADP | adposition\n",
      "constant | ADJ | adjective\n",
      "currency | NOUN | noun\n",
      ") | PUNCT | punctuation\n",
      "\n",
      "\n",
      " | SPACE | space\n",
      "· | PUNCT | punctuation\n",
      "        | SPACE | space\n",
      "Operating | VERB | verb\n",
      "income | NOUN | noun\n",
      "was | AUX | auxiliary\n",
      "$ | SYM | symbol\n",
      "27.9 | NUM | numeral\n",
      "billion | NUM | numeral\n",
      "and | CCONJ | coordinating conjunction\n",
      "increased | VERB | verb\n",
      "15 | NUM | numeral\n",
      "% | NOUN | noun\n",
      "( | PUNCT | punctuation\n",
      "up | ADV | adverb\n",
      "16 | NUM | numeral\n",
      "% | NOUN | noun\n",
      "in | ADP | adposition\n",
      "constant | ADJ | adjective\n",
      "currency | NOUN | noun\n",
      ") | PUNCT | punctuation\n",
      "\n",
      "\n",
      " | SPACE | space\n",
      "· | PUNCT | punctuation\n",
      "        | SPACE | space\n",
      "Net | ADJ | adjective\n",
      "income | NOUN | noun\n",
      "was | AUX | auxiliary\n",
      "$ | SYM | symbol\n",
      "22.0 | NUM | numeral\n",
      "billion | NUM | numeral\n",
      "and | CCONJ | coordinating conjunction\n",
      "increased | VERB | verb\n",
      "10 | NUM | numeral\n",
      "% | NOUN | noun\n",
      "( | PUNCT | punctuation\n",
      "up | ADV | adverb\n",
      "11 | NUM | numeral\n",
      "% | NOUN | noun\n",
      "in | ADP | adposition\n",
      "constant | ADJ | adjective\n",
      "currency | NOUN | noun\n",
      ") | PUNCT | punctuation\n",
      "\n",
      "\n",
      " | SPACE | space\n",
      "· | PUNCT | punctuation\n",
      "        | SPACE | space\n",
      "Diluted | VERB | verb\n",
      "earnings | NOUN | noun\n",
      "per | ADP | adposition\n",
      "share | NOUN | noun\n",
      "was | AUX | auxiliary\n",
      "$ | SYM | symbol\n",
      "2.95 | NUM | numeral\n",
      "and | CCONJ | coordinating conjunction\n",
      "increased | VERB | verb\n",
      "10 | NUM | numeral\n",
      "% | NOUN | noun\n",
      "( | PUNCT | punctuation\n",
      "up | ADV | adverb\n",
      "11 | NUM | numeral\n",
      "% | NOUN | noun\n",
      "in | ADP | adposition\n",
      "constant | ADJ | adjective\n",
      "currency | NOUN | noun\n",
      ") | PUNCT | punctuation\n"
     ]
    }
   ],
   "source": [
    "doc = nlp(earning_text)\n",
    "for tok in doc:\n",
    "    print(tok,'|',tok.pos_,'|',spacy.explain(tok.pos_))"
   ]
  },
  {
   "cell_type": "code",
   "execution_count": 31,
   "id": "3fee2ae7-e1b3-4ab4-bbea-c2850adbfe67",
   "metadata": {},
   "outputs": [],
   "source": [
    "hey = '''Inflation rose again in April, continuing a climb that has pushed consumers to the brink and is threatening the economic expansion, the Bureau of Labor Statistics reported Wednesday.\\n\\nThe consumer price index, a broad-based measure of prices for goods and services, increased 8.3% from a year ago, higher than the Dow Jones estimate for an 8.1% gain. That represented a slight ease from Marchâ€™s peak but was still close to the highest level since the summer of 1982.\\n\\nRemoving volatile food and ene'\n",
    "'''\n",
    "doc = nlp(hey)\n",
    "num_token = []\n",
    "noun_token = []\n",
    "for tok in doc:\n",
    "    if tok.pos_ == 'NOUN':\n",
    "        noun_token.append(tok)\n",
    "    elif tok.pos_ == 'NUM':\n",
    "        num_token.append(tok)"
   ]
  },
  {
   "cell_type": "code",
   "execution_count": 32,
   "id": "c5dd4971-497a-4bd2-8146-9e3bbe22db44",
   "metadata": {},
   "outputs": [
    {
     "data": {
      "text/plain": [
       "[8.3, 8.1, 1982]"
      ]
     },
     "execution_count": 32,
     "metadata": {},
     "output_type": "execute_result"
    }
   ],
   "source": [
    "num_token"
   ]
  },
  {
   "cell_type": "code",
   "execution_count": 34,
   "id": "79df77f0-46da-40b9-bc3d-6633667339b0",
   "metadata": {},
   "outputs": [
    {
     "data": {
      "text/plain": [
       "[Inflation,\n",
       " climb,\n",
       " consumers,\n",
       " brink,\n",
       " expansion,\n",
       " consumer,\n",
       " price,\n",
       " index,\n",
       " measure,\n",
       " prices]"
      ]
     },
     "execution_count": 34,
     "metadata": {},
     "output_type": "execute_result"
    }
   ],
   "source": [
    "noun_token[:10]"
   ]
  },
  {
   "cell_type": "code",
   "execution_count": null,
   "id": "3891c0df-f7c9-406d-bbde-c70f3bb852d1",
   "metadata": {},
   "outputs": [],
   "source": []
  }
 ],
 "metadata": {
  "kernelspec": {
   "display_name": "Python 3 (ipykernel)",
   "language": "python",
   "name": "python3"
  },
  "language_info": {
   "codemirror_mode": {
    "name": "ipython",
    "version": 3
   },
   "file_extension": ".py",
   "mimetype": "text/x-python",
   "name": "python",
   "nbconvert_exporter": "python",
   "pygments_lexer": "ipython3",
   "version": "3.12.6"
  }
 },
 "nbformat": 4,
 "nbformat_minor": 5
}
